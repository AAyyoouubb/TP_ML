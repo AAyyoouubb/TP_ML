{
  "nbformat": 4,
  "nbformat_minor": 0,
  "metadata": {
    "colab": {
      "name": "Project-Regression.ipynb",
      "provenance": [],
      "collapsed_sections": [],
      "authorship_tag": "ABX9TyM/5gnRLlce+dtHvpeYcgKl",
      "include_colab_link": true
    },
    "kernelspec": {
      "name": "python3",
      "display_name": "Python 3"
    }
  },
  "cells": [
    {
      "cell_type": "markdown",
      "metadata": {
        "id": "view-in-github",
        "colab_type": "text"
      },
      "source": [
        "<a href=\"https://colab.research.google.com/github/AAyyoouubb/TP_ML/blob/master/Project_Regression.ipynb\" target=\"_parent\"><img src=\"https://colab.research.google.com/assets/colab-badge.svg\" alt=\"Open In Colab\"/></a>"
      ]
    },
    {
      "cell_type": "markdown",
      "metadata": {
        "id": "KpXCIRyLoCDe"
      },
      "source": [
        "Our dataset exist in google drive in a folder **project_machinglearning_S3**, therefore we  will open this folder as root directory"
      ]
    },
    {
      "cell_type": "code",
      "metadata": {
        "id": "nxmgG7s8hjij",
        "colab": {
          "base_uri": "https://localhost:8080/"
        },
        "outputId": "2d00a4b0-6ac4-4c67-9110-c2e68183530e"
      },
      "source": [
        "from google.colab import drive\n",
        "drive.mount('/content/drive/')\n",
        "\n",
        "# change to default path of datasets\n",
        "import os\n",
        "os.chdir(\"/content/drive/MyDrive/project_machinglearning_S3\")\n",
        "! ls"
      ],
      "execution_count": 371,
      "outputs": [
        {
          "output_type": "stream",
          "text": [
            "Drive already mounted at /content/drive/; to attempt to forcibly remount, call drive.mount(\"/content/drive/\", force_remount=True).\n",
            "classification_data7.csv  data8.csv\t   Part2_data4.rar\n",
            "data4.csv\t\t  Part1_data8.rar\n"
          ],
          "name": "stdout"
        }
      ]
    },
    {
      "cell_type": "markdown",
      "metadata": {
        "id": "qu2QvzuJofD_"
      },
      "source": [
        "\n",
        "Cheching the existing the two part of the datasets:\n",
        "* **data8.csv** For First Part\n",
        "* **data4.csv** For Second Part"
      ]
    },
    {
      "cell_type": "code",
      "metadata": {
        "colab": {
          "base_uri": "https://localhost:8080/"
        },
        "id": "FgkwD7WplPF9",
        "outputId": "afccb84c-ef57-464d-8771-43369233d74b"
      },
      "source": [
        "! ls data*"
      ],
      "execution_count": 372,
      "outputs": [
        {
          "output_type": "stream",
          "text": [
            "data4.csv  data8.csv\n"
          ],
          "name": "stdout"
        }
      ]
    },
    {
      "cell_type": "markdown",
      "metadata": {
        "id": "UhDI7tI7os0-"
      },
      "source": [
        "Importing libraries,\n",
        "* **numpy** for matrix structures\n",
        "* **pandas** for reading tables\n",
        "* **matplotlib**  for visualization\n"
      ]
    },
    {
      "cell_type": "code",
      "metadata": {
        "id": "wDbF5XzJl6ut"
      },
      "source": [
        "import numpy as np\n",
        "import pandas as pd\n",
        "import matplotlib.pyplot as plt\n",
        "from pandas.plotting import scatter_matrix as sm\n",
        "import random\n",
        "%matplotlib inline\n",
        "import warnings  \n",
        "warnings.filterwarnings('ignore')"
      ],
      "execution_count": 373,
      "outputs": []
    },
    {
      "cell_type": "markdown",
      "metadata": {
        "id": "pJhEmhVPjUd-"
      },
      "source": [
        "### **First Part:**"
      ]
    },
    {
      "cell_type": "markdown",
      "metadata": {
        "id": "kbzIfvh9lnXL"
      },
      "source": [
        "\n",
        "\n",
        "Pandas function `read_csv()` is used to read the csv file **data8.csv** and place it as a dataframe."
      ]
    },
    {
      "cell_type": "code",
      "metadata": {
        "id": "Qr_49wUHj55X"
      },
      "source": [
        "data =pd.read_csv(\"data8.csv\")\n",
        "data= data.sample(frac=1)"
      ],
      "execution_count": 374,
      "outputs": []
    },
    {
      "cell_type": "markdown",
      "metadata": {
        "id": "Zln-wjvrf3B1"
      },
      "source": [
        "Split the dataset into inputs(x) and output(y). Use the method values to transform from a DataFrame object to an array object, which can efficiently managed by Numpy library."
      ]
    },
    {
      "cell_type": "code",
      "metadata": {
        "id": "1zEeEKETf1d3"
      },
      "source": [
        "y=data.y.values.reshape(-1,1)\n",
        "\n",
        "x=data[\"x\"].values.reshape(-1,1)\n"
      ],
      "execution_count": 375,
      "outputs": []
    },
    {
      "cell_type": "markdown",
      "metadata": {
        "id": "u3eLXKfKgKaT"
      },
      "source": [
        "Add a bias column to the input vector. This is a column of ones so when we calibrate the parameters it will also multiply such bias."
      ]
    },
    {
      "cell_type": "code",
      "metadata": {
        "id": "c0ePGEa9gKoL"
      },
      "source": [
        "X = np.concatenate((np.ones((len(x),1)),x),axis=1)"
      ],
      "execution_count": 376,
      "outputs": []
    },
    {
      "cell_type": "markdown",
      "metadata": {
        "id": "8NAHuAY4j6Cn"
      },
      "source": [
        "Spliting the data into **80%** training set and **20%** testing set."
      ]
    },
    {
      "cell_type": "code",
      "metadata": {
        "id": "nTcAPt9kj6NP"
      },
      "source": [
        "trainingSplit = int(.8 * data.shape[0])\n",
        "\n",
        "x_train = x[:trainingSplit]\n",
        "x_test = x[trainingSplit:]\n",
        "\n",
        "X_train = X[:trainingSplit]\n",
        "X_test = X[trainingSplit:]\n",
        "\n",
        "y_train = y[:trainingSplit] \n",
        "y_test = y[trainingSplit:]\n",
        "\n"
      ],
      "execution_count": 377,
      "outputs": []
    },
    {
      "cell_type": "markdown",
      "metadata": {
        "id": "Wqgs81k8j6dH"
      },
      "source": [
        "\n",
        "**Q1.**\n",
        "\n",
        "\n",
        "1.  There are one feature `x` and one label `y`.\n",
        "2.  The size of training set is **184** and the size of testing set is 46.\n",
        "3. No invalid value was found in the data.\n",
        "4.  Bellow the describtion of the data: \n",
        "\n",
        "feature| mean | median | min | max\n",
        "--- | --- | --- | --- | ---\n",
        "x | 11.45|-0.1 |0|22.9\n",
        "y | 25.94| 157.93|-0.43|50.44\n",
        "\n"
      ]
    },
    {
      "cell_type": "code",
      "metadata": {
        "colab": {
          "base_uri": "https://localhost:8080/"
        },
        "id": "OZtZFC1wj6m8",
        "outputId": "7e64e913-acc8-4750-c124-29e40b3f0acc"
      },
      "source": [
        "# 1\n",
        "print(*data.columns)"
      ],
      "execution_count": 378,
      "outputs": [
        {
          "output_type": "stream",
          "text": [
            "x y\n"
          ],
          "name": "stdout"
        }
      ]
    },
    {
      "cell_type": "code",
      "metadata": {
        "colab": {
          "base_uri": "https://localhost:8080/"
        },
        "id": "F6ugKzNykLeu",
        "outputId": "07896e2f-ae7c-4570-e1c4-e44293100754"
      },
      "source": [
        "# 2\n",
        "print(x_train.shape,y_train.shape)\n",
        "print(x_test.shape,X_test.shape)"
      ],
      "execution_count": 379,
      "outputs": [
        {
          "output_type": "stream",
          "text": [
            "(184, 1) (184, 1)\n",
            "(46, 1) (46, 2)\n"
          ],
          "name": "stdout"
        }
      ]
    },
    {
      "cell_type": "code",
      "metadata": {
        "colab": {
          "base_uri": "https://localhost:8080/"
        },
        "id": "bnbBS_U8fUZU",
        "outputId": "518d511b-f897-4013-cc03-03e1386be722"
      },
      "source": [
        "# 3\n",
        "pd.isna(data).any()\n"
      ],
      "execution_count": 380,
      "outputs": [
        {
          "output_type": "execute_result",
          "data": {
            "text/plain": [
              "x    False\n",
              "y    False\n",
              "dtype: bool"
            ]
          },
          "metadata": {
            "tags": []
          },
          "execution_count": 380
        }
      ]
    },
    {
      "cell_type": "code",
      "metadata": {
        "colab": {
          "base_uri": "https://localhost:8080/"
        },
        "id": "TNon3M2CkPQX",
        "outputId": "e4898403-094d-4ec3-b7a2-9b0c30ce8102"
      },
      "source": [
        "# 4\n",
        "print(data.describe())\n"
      ],
      "execution_count": 381,
      "outputs": [
        {
          "output_type": "stream",
          "text": [
            "                x           y\n",
            "count  230.000000  230.000000\n",
            "mean    11.450000   25.945763\n",
            "std      6.653946   13.597779\n",
            "min      0.000000   -0.431536\n",
            "25%      5.725000   14.343240\n",
            "50%     11.450000   26.286147\n",
            "75%     17.175000   37.487885\n",
            "max     22.900000   50.444631\n"
          ],
          "name": "stdout"
        }
      ]
    },
    {
      "cell_type": "markdown",
      "metadata": {
        "id": "jRINi5IYlOFv"
      },
      "source": [
        "**Q2.** Ploting the training set "
      ]
    },
    {
      "cell_type": "code",
      "metadata": {
        "colab": {
          "base_uri": "https://localhost:8080/",
          "height": 282
        },
        "id": "tHZxEB-JkiyV",
        "outputId": "becb09be-ad3b-47e1-b90b-2c485e37e212"
      },
      "source": [
        "plt.scatter(x_train, y_train)"
      ],
      "execution_count": 382,
      "outputs": [
        {
          "output_type": "execute_result",
          "data": {
            "text/plain": [
              "<matplotlib.collections.PathCollection at 0x7f6ed58c1fd0>"
            ]
          },
          "metadata": {
            "tags": []
          },
          "execution_count": 382
        },
        {
          "output_type": "display_data",
          "data": {
            "image/png": "[encoded data removed]",
            "text/plain": [
              "<Figure size 432x288 with 1 Axes>"
            ]
          },
          "metadata": {
            "tags": [],
            "needs_background": "light"
          }
        }
      ]
    },
    {
      "cell_type": "markdown",
      "metadata": {
        "id": "OnIP0jhmlWFM"
      },
      "source": [
        "**Q3.** According to the ploting, the data is linear.\n",
        "\n",
        "\n",
        "It is Supervised because the data labeled.\n",
        "\n",
        "**Q4.**  (TODO)\n",
        "The various metrics used to optimize error are :\n",
        "* Gradient Descent\n",
        "* Newton\n",
        "* .\n",
        "\n",
        "The various metrics used to evaluate the results of the prediction are :\n",
        "* Mean Squared Error(MSE)\n",
        "* Mean-Absolute-Error(MAE)\n",
        "* .\n",
        "\n",
        "**Q5.** \n"
      ]
    },
    {
      "cell_type": "markdown",
      "metadata": {
        "id": "x-xconWnectz"
      },
      "source": [
        "Create a function `grad()` to compute the necessary gradients of the cost function. \n"
      ]
    },
    {
      "cell_type": "code",
      "metadata": {
        "id": "ARBoONmOse6F"
      },
      "source": [
        "m = data.shape[0]\n",
        "\n",
        "# calculate gradient\n",
        "def grad(theta,X,y):\n",
        "    dJ = 1/m*np.sum((X.dot(theta)-y)*X,axis=0).reshape(-1,1)\n",
        "    return dJ"
      ],
      "execution_count": 383,
      "outputs": []
    },
    {
      "cell_type": "markdown",
      "metadata": {
        "id": "33VaK64Kg7Sy"
      },
      "source": [
        "Similarly, calculate the cost function `cost()`, also known as objective function, which can be expressed as the sum of the squared errors, as follows"
      ]
    },
    {
      "cell_type": "code",
      "metadata": {
        "id": "iH8pplhk4WIP"
      },
      "source": [
        "def cost(theta,X,y):\n",
        "    J = np.sum((X.dot(theta)-y)**2,axis=0)[0]\n",
        "    return J\n",
        "\n"
      ],
      "execution_count": 384,
      "outputs": []
    },
    {
      "cell_type": "markdown",
      "metadata": {
        "id": "BLqP5tGchGQv"
      },
      "source": [
        "Armijo function for linear search the learning rate"
      ]
    },
    {
      "cell_type": "code",
      "metadata": {
        "id": "SOTIb62K_Dha"
      },
      "source": [
        "def armijo(X,y,theta,grad=grad,cost=cost):\n",
        "    eps = .001\n",
        "    eta = 10\n",
        "    alpha =10e-15    \n",
        "    gradient = grad(theta,X,y)\n",
        "    phiprzero = -gradient.T.dot(gradient)\n",
        "    phizero = cost(theta,X,y)\n",
        "    while  cost(theta-alpha*gradient,X,y)<= alpha * phiprzero * eps + phizero :\n",
        "      alpha*=eta\n",
        "    return alpha/eta\n"
      ],
      "execution_count": 385,
      "outputs": []
    },
    {
      "cell_type": "markdown",
      "metadata": {
        "id": "pDOFUw9UhQEu"
      },
      "source": [
        "We are ready to implement the Gradient Descent algorithm\n",
        "The parametres :\n",
        "* `X` features;\n",
        "* `y` labels;\n",
        "* `learning_rate` learning rate for parametres update;\n",
        "* `epochs` max iteration of gradient descent update;\n",
        "* `TOL` is a tolerance, i.e a maximum difference between the values of the parameters between iterations so it can be stated that the values converged;\n",
        "* `use_armijo` True to opt the armijo rule to calculate the learning rate otherwise the algorithm will use the fixed learning rate.\n",
        "\n",
        "\n",
        "The steps of this algorithm consists of:\n",
        "* Obtain the gradients of the cost function according the actual value of the parameters;\n",
        "* Calculate the cost to keep track of it;\n",
        "* Update the parameters;"
      ]
    },
    {
      "cell_type": "code",
      "metadata": {
        "id": "mNdYbYW54kAH"
      },
      "source": [
        "def GD(X,y,learning_rate = 0.001,epochs=100,TOL=1e-7,use_armijo = False,verbose=False):\n",
        "    theta = np.array([[0]]*X.shape[1])\n",
        "    if verbose:print(theta)\n",
        "    theta_history = [theta]\n",
        "    J_history = [cost(theta,X,y)]\n",
        "    \n",
        "    thetanew = theta\n",
        "    if verbose:print(f'epoch \\t Cost(J,X,y) \\t')\n",
        "    for epoch in range(epochs):\n",
        "        if epoch%100 == 0:\n",
        "            if verbose:print(f'{epoch:5d}\\t{J_history[-1]:7.4f}\\t')\n",
        "        dJ = grad(theta,X,y)\n",
        "        J = cost(theta,X,y)\n",
        "        if use_armijo:learning_rate= armijo(X,y,theta)\n",
        "        thetanew = theta - learning_rate*dJ\n",
        "        theta_history.append(thetanew)\n",
        "        J_history.append(J)\n",
        "        \n",
        "        if np.sum((thetanew - theta)**2) < TOL:\n",
        "            if verbose:print('Convergence achieved.')\n",
        "            break\n",
        "        theta = thetanew\n",
        "    if verbose:print(theta)\n",
        "    return thetanew,theta_history,J_history"
      ],
      "execution_count": 386,
      "outputs": []
    },
    {
      "cell_type": "code",
      "metadata": {
        "id": "NXhYMwwU86Gw"
      },
      "source": [
        "# theta,theta_history,J_history = GD(X,y,use_armijo=1)\n",
        "# plt.scatter(data.x.values, y)\n",
        "# Y_pred = X.dot(theta)\n",
        "# plt.plot([min(x), max(x)], [min(Y_pred), max(Y_pred)], color=\"red\") # predicted\n",
        "# plt.show()"
      ],
      "execution_count": 387,
      "outputs": []
    },
    {
      "cell_type": "markdown",
      "metadata": {
        "id": "TbSeI5wQi3Uf"
      },
      "source": [
        "Next, evaluate the Gradient Descent to determine the optimum set of parameters for 4 models (α = 0.001, 0.002, 0.003 and apply\n",
        "Armijo’s learning rate);"
      ]
    },
    {
      "cell_type": "code",
      "metadata": {
        "id": "JmhJ2tfHi1AX"
      },
      "source": [
        "models = []\n",
        "models.append( GD(X_train,y_train,learning_rate = 0.001))\n",
        "models.append( GD(X_train,y_train,learning_rate = 0.002))\n",
        "models.append( GD(X_train,y_train,learning_rate = 0.003))\n",
        "models.append( GD(X_train,y_train,use_armijo=1))"
      ],
      "execution_count": 388,
      "outputs": []
    },
    {
      "cell_type": "markdown",
      "metadata": {
        "id": "_j0Q6ErCjWW-"
      },
      "source": [
        "**Q6.** Drawing the fit line for the 4 models;"
      ]
    },
    {
      "cell_type": "code",
      "metadata": {
        "colab": {
          "base_uri": "https://localhost:8080/",
          "height": 265
        },
        "id": "YygKQ4J049IE",
        "outputId": "9078cdf5-1f36-4ed2-e091-c8df05ca3d12"
      },
      "source": [
        "plt.scatter(x_train, y_train)\n",
        "\n",
        "colors = ['red' , 'blue', \"green\",\"black\"]\n",
        "labels = ['0.001','0.002','0.003','Armijo']\n",
        "for label,color,model in zip(labels,colors,models):\n",
        "  theta = model[0]\n",
        "  Y_pred = X_train.dot(theta)\n",
        "  plt.plot([min(x_train), max(x_train)], [min(Y_pred), max(Y_pred)], color=color,label = label) # predicted\n",
        "plt.legend()\n",
        "plt.show()"
      ],
      "execution_count": 389,
      "outputs": [
        {
          "output_type": "display_data",
          "data": {
            "image/png": "[encoded data removed]",
            "text/plain": [
              "<Figure size 432x288 with 1 Axes>"
            ]
          },
          "metadata": {
            "tags": [],
            "needs_background": "light"
          }
        }
      ]
    },
    {
      "cell_type": "code",
      "metadata": {
        "colab": {
          "base_uri": "https://localhost:8080/",
          "height": 265
        },
        "id": "OaSg-WZh0jUS",
        "outputId": "7470dc58-278e-464f-b7b9-ea089c7cca32"
      },
      "source": [
        "colors = ['red' , 'blue', \"green\",\"black\"]\n",
        "labels = ['0.001','0.002','0.003','Armijo']\n",
        "for label,color,model in zip(labels,colors,models):\n",
        "  J_history = model[2]\n",
        "  plt.plot(J_history, color=color,label = label) # predicted\n",
        "plt.legend()\n",
        "plt.show()"
      ],
      "execution_count": 390,
      "outputs": [
        {
          "output_type": "display_data",
          "data": {
            "image/png": "[encoded data removed]",
            "text/plain": [
              "<Figure size 432x288 with 1 Axes>"
            ]
          },
          "metadata": {
            "tags": [],
            "needs_background": "light"
          }
        }
      ]
    },
    {
      "cell_type": "markdown",
      "metadata": {
        "id": "jOg9rGb5kNR9"
      },
      "source": [
        "**Q7.** Generalization error  "
      ]
    },
    {
      "cell_type": "code",
      "metadata": {
        "colab": {
          "base_uri": "https://localhost:8080/"
        },
        "id": "4RACMcbykYqw",
        "outputId": "f0ee286f-354b-48b3-864d-703911a4b79b"
      },
      "source": [
        "for model in models:\n",
        "  theta =model[0]\n",
        "  print(cost(theta,X_test,y_test))"
      ],
      "execution_count": 391,
      "outputs": [
        {
          "output_type": "stream",
          "text": [
            "225.20864880606408\n",
            "223.39541956563457\n",
            "221.68221602787332\n",
            "199.93199416486408\n"
          ],
          "name": "stdout"
        }
      ]
    },
    {
      "cell_type": "markdown",
      "metadata": {
        "id": "1OpnR52Qm7X5"
      },
      "source": [
        "**Q14** Calculate the accuracy;"
      ]
    },
    {
      "cell_type": "markdown",
      "metadata": {
        "id": "UHyISvUm94h-"
      },
      "source": [
        "R²  score or the coefficient of determination explains how much the total variance of the dependent variable can be reduced by using the least square regression."
      ]
    },
    {
      "cell_type": "code",
      "metadata": {
        "id": "9lTn4CF46rsB"
      },
      "source": [
        "def accuracy(y_actual,y_pred):\n",
        "  # sum of square of residuals\n",
        "  ssr = np.sum((y_pred - y_actual)**2)\n",
        "  #  total sum of squares\n",
        "  sst = np.sum((y_actual - np.mean(y_actual))**2)\n",
        "  # R2 score\n",
        "  r2_score = 1 - (ssr/sst)\n",
        "  return r2_score\n"
      ],
      "execution_count": 392,
      "outputs": []
    },
    {
      "cell_type": "code",
      "metadata": {
        "colab": {
          "base_uri": "https://localhost:8080/"
        },
        "id": "Jim_s0r39x8G",
        "outputId": "024d3057-5148-4ac5-a3ac-19eabda6cdf5"
      },
      "source": [
        "for model in models:\n",
        "  theta =model[0]\n",
        "  print(accuracy(y,X.dot(theta)))"
      ],
      "execution_count": 393,
      "outputs": [
        {
          "output_type": "stream",
          "text": [
            "0.9685564535616078\n",
            "0.9689634620266583\n",
            "0.9693533034216946\n",
            "0.9756066100767363\n"
          ],
          "name": "stdout"
        }
      ]
    },
    {
      "cell_type": "code",
      "metadata": {
        "colab": {
          "base_uri": "https://localhost:8080/"
        },
        "id": "qkrRnjG3N3Xy",
        "outputId": "1f0d66a9-d5e2-45b2-e8b4-d4bfc36754e3"
      },
      "source": [
        "print(X.shape)"
      ],
      "execution_count": 394,
      "outputs": [
        {
          "output_type": "stream",
          "text": [
            "(230, 2)\n"
          ],
          "name": "stdout"
        }
      ]
    },
    {
      "cell_type": "code",
      "metadata": {
        "id": "-YnJ7HcHK65i"
      },
      "source": [
        "def bootstrap(samples, X,y):\n",
        "  X_train_sets = []\n",
        "  y_train_sets = []\n",
        "\n",
        "  ix = int(0.7*X.shape[0])\n",
        "  for sample in range(samples):\n",
        "    ix = np.random.randint(X.shape[0],size=X.shape[0])\n",
        "\n",
        "    xx= X[ix,:] \n",
        "    yy= y[ix,:]\n",
        "\n",
        "    X_train_sets.append(xx)\n",
        "    y_train_sets.append(yy)\n",
        "\n",
        "  return X_train_sets,y_train_sets\n",
        "\n",
        "X_train_sets,y_train_sets = bootstrap(10,X_train,y_train)"
      ],
      "execution_count": 395,
      "outputs": []
    },
    {
      "cell_type": "code",
      "metadata": {
        "id": "WThB9QZYa6_J"
      },
      "source": [
        "def bias_var(X_train_sets,y_train_sets,X_test,y_test):\n",
        "  samples = len(X_train_sets)\n",
        "  predicts = np.zeros((samples,y_test.shape[0],1))\n",
        "  for ix in range(samples):\n",
        "    theta,theta_history,J_history = GD(X_train_sets[ix],y_train_sets[ix],use_armijo=1)\n",
        "    predicts[ix,:] =X_test.dot(theta)\n",
        "\n",
        "  mean_preds = np.mean(predicts)\n",
        "  bias_per_point = (mean_preds-y_test)**2\n",
        "  bias = np.mean(bias_per_point)\n",
        "  var_per_point = np.mean((predicts-mean_preds)**2,axis=0)\n",
        "  var = np.mean(var_per_point)\n",
        "  return bias,var\n"
      ],
      "execution_count": 396,
      "outputs": []
    },
    {
      "cell_type": "code",
      "metadata": {
        "colab": {
          "base_uri": "https://localhost:8080/"
        },
        "id": "Jt4roevH5oNh",
        "outputId": "4929857d-a38e-42e9-cd42-8cffccece089"
      },
      "source": [
        "bias,var = bias_var(X_train_sets,y_train_sets,X_test,y_test)\n",
        "print(bias,var)"
      ],
      "execution_count": 397,
      "outputs": [
        {
          "output_type": "stream",
          "text": [
            "169.3239871009726 167.81086768531966\n"
          ],
          "name": "stdout"
        }
      ]
    },
    {
      "cell_type": "markdown",
      "metadata": {
        "id": "My2IXdbWj1Mh"
      },
      "source": [
        "### **Second Part**"
      ]
    },
    {
      "cell_type": "code",
      "metadata": {
        "id": "uVw1ShvFdw2B",
        "colab": {
          "base_uri": "https://localhost:8080/"
        },
        "outputId": "a9fcb317-9b64-42ba-b1fd-bc475586faf0"
      },
      "source": [
        "data = pd.read_csv(\"data4.csv\")\n",
        "\n",
        "data= data.sample(frac=1)\n",
        "\n",
        "print(data.shape)"
      ],
      "execution_count": 398,
      "outputs": [
        {
          "output_type": "stream",
          "text": [
            "(240, 2)\n"
          ],
          "name": "stdout"
        }
      ]
    },
    {
      "cell_type": "markdown",
      "metadata": {
        "id": "aKwx_XGaqpwb"
      },
      "source": [
        "Spliting to traing and testing"
      ]
    },
    {
      "cell_type": "code",
      "metadata": {
        "id": "5PBsamQdquJV",
        "colab": {
          "base_uri": "https://localhost:8080/"
        },
        "outputId": "ccff749c-c1af-451f-c530-a1ac7aa82dda"
      },
      "source": [
        "y=data.y.values.reshape(-1,1)\n",
        "x=data[\"x\"].values.reshape(-1,1)\n",
        "\n",
        "print(x.shape,y.shape)\n",
        "trainingSplit = int(.8 * data.shape[0])\n",
        "\n",
        "\n",
        "x_train = x[:trainingSplit]\n",
        "y_train = y[:trainingSplit] \n",
        "x_test = x[trainingSplit:]\n",
        "y_test = y[trainingSplit:]"
      ],
      "execution_count": 399,
      "outputs": [
        {
          "output_type": "stream",
          "text": [
            "(240, 1) (240, 1)\n"
          ],
          "name": "stdout"
        }
      ]
    },
    {
      "cell_type": "markdown",
      "metadata": {
        "id": "MmsXtFTMp0Kz"
      },
      "source": [
        "**Q1.**\n",
        "\n",
        "**q1.**\n",
        "\n",
        "**1.1.** The data contain 2 features `x` and `y`."
      ]
    },
    {
      "cell_type": "code",
      "metadata": {
        "colab": {
          "base_uri": "https://localhost:8080/"
        },
        "id": "pKhC9dCPnyOm",
        "outputId": "cb1ad714-bc7a-4e48-c32b-944fa2476b74"
      },
      "source": [
        "print(*data.columns)"
      ],
      "execution_count": 400,
      "outputs": [
        {
          "output_type": "stream",
          "text": [
            "x y\n"
          ],
          "name": "stdout"
        }
      ]
    },
    {
      "cell_type": "markdown",
      "metadata": {
        "id": "pNQycAw2rNJ1"
      },
      "source": [
        "**1.2.**  The size of training set is **192**, the size of testing size is **48**.\n",
        "\n",
        "\n",
        "\n",
        "\n",
        "\n",
        "\n",
        "\n"
      ]
    },
    {
      "cell_type": "code",
      "metadata": {
        "colab": {
          "base_uri": "https://localhost:8080/"
        },
        "id": "mQc0OCtUrP2S",
        "outputId": "e6657908-9dac-45b3-fe6b-f0723c141f33"
      },
      "source": [
        "print(x_train.shape,y_train.shape)\n",
        "print(x_test.shape,X_test.shape)\n"
      ],
      "execution_count": 401,
      "outputs": [
        {
          "output_type": "stream",
          "text": [
            "(192, 1) (192, 1)\n",
            "(48, 1) (46, 2)\n"
          ],
          "name": "stdout"
        }
      ]
    },
    {
      "cell_type": "markdown",
      "metadata": {
        "id": "QyUwDyeXr0mc"
      },
      "source": [
        "**1.3.** According to the ploting, The data is polynomial.\n",
        "\n",
        "The data is Supervided : There is no missing data because the size of features equal the size of labels"
      ]
    },
    {
      "cell_type": "markdown",
      "metadata": {
        "id": "Le8TdH12sLUH"
      },
      "source": [
        "**1.4.** bellow the describtion of our dataset :\n",
        "\n",
        " feature| mean | median | min | max\n",
        "--- | --- | --- | --- | ---\n",
        "x | -0.1|-0.1 |-24|23.8\n",
        "y | 193.31| 157.39|-67.13|578.49"
      ]
    },
    {
      "cell_type": "code",
      "metadata": {
        "id": "pWDmnUvmtGTI",
        "colab": {
          "base_uri": "https://localhost:8080/",
          "height": 297
        },
        "outputId": "c967683b-0ef6-49e3-e1e2-64b2642e1534"
      },
      "source": [
        "data.describe()"
      ],
      "execution_count": 402,
      "outputs": [
        {
          "output_type": "execute_result",
          "data": {
            "text/html": [
              "<div>\n",
              "<style scoped>\n",
              "    .dataframe tbody tr th:only-of-type {\n",
              "        vertical-align: middle;\n",
              "    }\n",
              "\n",
              "    .dataframe tbody tr th {\n",
              "        vertical-align: top;\n",
              "    }\n",
              "\n",
              "    .dataframe thead th {\n",
              "        text-align: right;\n",
              "    }\n",
              "</style>\n",
              "<table border=\"1\" class=\"dataframe\">\n",
              "  <thead>\n",
              "    <tr style=\"text-align: right;\">\n",
              "      <th></th>\n",
              "      <th>x</th>\n",
              "      <th>y</th>\n",
              "    </tr>\n",
              "  </thead>\n",
              "  <tbody>\n",
              "    <tr>\n",
              "      <th>count</th>\n",
              "      <td>240.000000</td>\n",
              "      <td>240.000000</td>\n",
              "    </tr>\n",
              "    <tr>\n",
              "      <th>mean</th>\n",
              "      <td>-0.100000</td>\n",
              "      <td>193.313566</td>\n",
              "    </tr>\n",
              "    <tr>\n",
              "      <th>std</th>\n",
              "      <td>13.885244</td>\n",
              "      <td>172.459213</td>\n",
              "    </tr>\n",
              "    <tr>\n",
              "      <th>min</th>\n",
              "      <td>-24.000000</td>\n",
              "      <td>-67.135789</td>\n",
              "    </tr>\n",
              "    <tr>\n",
              "      <th>25%</th>\n",
              "      <td>-12.050000</td>\n",
              "      <td>41.201270</td>\n",
              "    </tr>\n",
              "    <tr>\n",
              "      <th>50%</th>\n",
              "      <td>-0.100000</td>\n",
              "      <td>157.391379</td>\n",
              "    </tr>\n",
              "    <tr>\n",
              "      <th>75%</th>\n",
              "      <td>11.850000</td>\n",
              "      <td>324.378494</td>\n",
              "    </tr>\n",
              "    <tr>\n",
              "      <th>max</th>\n",
              "      <td>23.800000</td>\n",
              "      <td>578.496869</td>\n",
              "    </tr>\n",
              "  </tbody>\n",
              "</table>\n",
              "</div>"
            ],
            "text/plain": [
              "                x           y\n",
              "count  240.000000  240.000000\n",
              "mean    -0.100000  193.313566\n",
              "std     13.885244  172.459213\n",
              "min    -24.000000  -67.135789\n",
              "25%    -12.050000   41.201270\n",
              "50%     -0.100000  157.391379\n",
              "75%     11.850000  324.378494\n",
              "max     23.800000  578.496869"
            ]
          },
          "metadata": {
            "tags": []
          },
          "execution_count": 402
        }
      ]
    },
    {
      "cell_type": "markdown",
      "metadata": {
        "id": "QZyrhi3OwdRC"
      },
      "source": [
        "***q2.***"
      ]
    },
    {
      "cell_type": "markdown",
      "metadata": {
        "id": "bqB77zBNwhrV"
      },
      "source": [
        "Using `matplotlib.scatter` to plot our **2D** dataset as scatters."
      ]
    },
    {
      "cell_type": "code",
      "metadata": {
        "colab": {
          "base_uri": "https://localhost:8080/",
          "height": 283
        },
        "id": "Q1weoEPwxMJg",
        "outputId": "1b987bc9-1eae-48a1-a186-b22dc9771c9a"
      },
      "source": [
        "plt.scatter(x_train, y_train)\n"
      ],
      "execution_count": 403,
      "outputs": [
        {
          "output_type": "execute_result",
          "data": {
            "text/plain": [
              "<matplotlib.collections.PathCollection at 0x7f6ed57c5940>"
            ]
          },
          "metadata": {
            "tags": []
          },
          "execution_count": 403
        },
        {
          "output_type": "display_data",
          "data": {
            "image/png": "[encoded data removed]",
            "text/plain": [
              "<Figure size 432x288 with 1 Axes>"
            ]
          },
          "metadata": {
            "tags": [],
            "needs_background": "light"
          }
        }
      ]
    },
    {
      "cell_type": "markdown",
      "metadata": {
        "id": "gZClmXy1hLIz"
      },
      "source": [
        "***q3.*** As showen in the figure above. the scatter of the training data is parabola.\n",
        "\n",
        "The nature of the dataset is **supervised** because the data is labeled."
      ]
    },
    {
      "cell_type": "markdown",
      "metadata": {
        "id": "85EsZinBFdKY"
      },
      "source": [
        "**Q2.** Create the tranformation `tf` which take the initial features and the degree and give the new features according to pylinomial transformation of given degree.\n",
        "\n",
        "we will use the same gradient descent implimentated in part 1."
      ]
    },
    {
      "cell_type": "code",
      "metadata": {
        "id": "nV2inqZvhB3O"
      },
      "source": [
        "def tf(x,deg):\n",
        "  X=np.ones((len(x),1))\n",
        "  for i in range(1,deg+1):\n",
        "    X = np.concatenate((X,x**i),axis=1)\n",
        "  return X"
      ],
      "execution_count": 404,
      "outputs": []
    },
    {
      "cell_type": "markdown",
      "metadata": {
        "id": "7Ggw64Dvx0Yo"
      },
      "source": [
        "Apply the tranformation for degree = 2"
      ]
    },
    {
      "cell_type": "code",
      "metadata": {
        "colab": {
          "base_uri": "https://localhost:8080/"
        },
        "id": "Tvr0i2Z7P2ty",
        "outputId": "97d533cd-5731-472e-e479-25c84898301f"
      },
      "source": [
        "k=2\n",
        "X_train =tf(x_train,deg=k)\n",
        "X_test =tf(x_test,deg=k)\n",
        "X =tf(x,deg=k)\n",
        "print(X.shape)"
      ],
      "execution_count": 405,
      "outputs": [
        {
          "output_type": "stream",
          "text": [
            "(240, 3)\n"
          ],
          "name": "stdout"
        }
      ]
    },
    {
      "cell_type": "markdown",
      "metadata": {
        "id": "4QtnAAlZHkio"
      },
      "source": [
        "**Q4.** Fiting the model;"
      ]
    },
    {
      "cell_type": "code",
      "metadata": {
        "colab": {
          "base_uri": "https://localhost:8080/"
        },
        "id": "TygjbdWbGWS7",
        "outputId": "71db713f-1ac9-48b8-da57-c2364bee6624"
      },
      "source": [
        "\n",
        "theta,theta_history,J_history = GD(X_train,y_train,use_armijo=1)\n",
        "print(\"Error generalization =\",cost(theta,X_test,X_test))"
      ],
      "execution_count": 406,
      "outputs": [
        {
          "output_type": "stream",
          "text": [
            "Error generalization = 2349654.244195459\n"
          ],
          "name": "stdout"
        }
      ]
    },
    {
      "cell_type": "markdown",
      "metadata": {
        "id": "qz_P-8FX4Umx"
      },
      "source": [
        "**Q5.**"
      ]
    },
    {
      "cell_type": "code",
      "metadata": {
        "colab": {
          "base_uri": "https://localhost:8080/",
          "height": 281
        },
        "id": "p-Jskafi4TKR",
        "outputId": "36541f4a-4361-40b8-cc96-6771f701f685"
      },
      "source": [
        "plt.scatter(x_train, y_train)\n",
        "Y_pred = X_train.dot(theta)\n",
        "plt.scatter(x_train, Y_pred, color=\"red\") # predicted\n",
        "plt.title(\"degree = \"+str(k))\n",
        "plt.show()"
      ],
      "execution_count": 407,
      "outputs": [
        {
          "output_type": "display_data",
          "data": {
            "image/png": "[encoded data removed]",
            "text/plain": [
              "<Figure size 432x288 with 1 Axes>"
            ]
          },
          "metadata": {
            "tags": [],
            "needs_background": "light"
          }
        }
      ]
    },
    {
      "cell_type": "code",
      "metadata": {
        "id": "jbUvCkmFLdX0",
        "colab": {
          "base_uri": "https://localhost:8080/"
        },
        "outputId": "11dbc1d7-50ce-46cc-88d6-2df2f7c18892"
      },
      "source": [
        "y_pred =X_test.dot(theta)\n",
        "print(\"Accurcy = \",accuracy(X_test,y_pred))"
      ],
      "execution_count": 408,
      "outputs": [
        {
          "output_type": "stream",
          "text": [
            "Accurcy =  -1.4395280986823225\n"
          ],
          "name": "stdout"
        }
      ]
    },
    {
      "cell_type": "code",
      "metadata": {
        "colab": {
          "base_uri": "https://localhost:8080/",
          "height": 293
        },
        "id": "8YDtaJGN0cIY",
        "outputId": "b7e5fbdd-4f03-48c1-939b-4d626f9a7b2a"
      },
      "source": [
        "plt.plot(J_history)\n"
      ],
      "execution_count": 409,
      "outputs": [
        {
          "output_type": "execute_result",
          "data": {
            "text/plain": [
              "[<matplotlib.lines.Line2D at 0x7f6ed59c28d0>]"
            ]
          },
          "metadata": {
            "tags": []
          },
          "execution_count": 409
        },
        {
          "output_type": "display_data",
          "data": {
            "image/png": "[encoded data removed]",
            "text/plain": [
              "<Figure size 432x288 with 1 Axes>"
            ]
          },
          "metadata": {
            "tags": [],
            "needs_background": "light"
          }
        }
      ]
    },
    {
      "cell_type": "markdown",
      "metadata": {
        "id": "wObDkBtaSF2g"
      },
      "source": [
        "Bias varience estimation for the 4 models:"
      ]
    },
    {
      "cell_type": "code",
      "metadata": {
        "colab": {
          "base_uri": "https://localhost:8080/"
        },
        "id": "fHdRoPbUe4IJ",
        "outputId": "be36b6da-2e83-4b09-c79f-54f08a17b140"
      },
      "source": [
        "for d in [1,2,4]:\n",
        "  X_train = tf(x_train,deg = d)\n",
        "  X_test = tf(x_test,deg = d)\n",
        "  X_train_sets,y_train_sets = bootstrap(10,X_train,y_train)\n",
        "  bias,var = bias_var(X_train_sets,y_train_sets,X_test,y_test)\n",
        "  print(\"deg \",d,\"bias\",bias,\"var\",var)"
      ],
      "execution_count": 417,
      "outputs": [
        {
          "output_type": "stream",
          "text": [
            "deg  1 bias 22797.27256033644 var 122.60704759965148\n",
            "deg  2 bias 22640.930873013098 var 22746.284957013457\n",
            "deg  4 bias 25055.630468171352 var 26591.734015984664\n"
          ],
          "name": "stdout"
        }
      ]
    },
    {
      "cell_type": "markdown",
      "metadata": {
        "id": "jTFJPlqOI37U"
      },
      "source": [
        "### PART3"
      ]
    },
    {
      "cell_type": "markdown",
      "metadata": {
        "id": "TpdOUUXMJEVg"
      },
      "source": [
        "**Q1.** The logistic regression is not appropriate for our problem because the labels are not between 0 and 1.\n",
        "\n",
        "**Q2.** To apply the logistic regression we need to normalise"
      ]
    },
    {
      "cell_type": "code",
      "metadata": {
        "id": "yG2XYZSNHrIy"
      },
      "source": [
        "ynorm = y.copy()\n",
        "maxy = np.max(y)\n",
        "miny = np.min(y)\n",
        "ynorm = (y-miny)/(maxy - miny) \n"
      ],
      "execution_count": 411,
      "outputs": []
    },
    {
      "cell_type": "markdown",
      "metadata": {
        "id": "lr2EgjbNRo16"
      },
      "source": [
        "Create the function for the logistic model"
      ]
    },
    {
      "cell_type": "code",
      "metadata": {
        "id": "Cq3sAcq_LYci"
      },
      "source": [
        "def sigmoid(z): return 1 / (1 + np.e**(-z))\n",
        "m = data.shape[0]\n",
        "\n",
        "# calculate gradient\n",
        "def grad2(theta,X,y):\n",
        "    y_hat = sigmoid(np.dot(X, theta))\n",
        "    dJ = 1/m*np.sum((y_hat-y)*X,axis=0).reshape(-1,1)\n",
        "    return dJ\n",
        "def cost2(theta,X, y):         \n",
        "    z = np.dot(X, theta)\n",
        "    predict_1 = y * np.log(sigmoid(z))\n",
        "    predict_0 = (1 - y) * np.log(1 - sigmoid(z))\n",
        "    return -sum(predict_1 + predict_0) / len(X)\n",
        "\n",
        "def LR(X,y,learning_rate = 0.001,epochs=1000,TOL=1e-7,use_armijo = False):\n",
        "    theta = np.array([[0]]*X.shape[1])\n",
        "    print(theta)\n",
        "    theta_history = [theta]\n",
        "    J_history = [cost2(theta,X,y)]\n",
        "    \n",
        "    thetanew = theta\n",
        "    print(f'epoch \\t Cost2(J,X,y) \\t')\n",
        "    for epoch in range(epochs):\n",
        "        if epoch%100 == 0:\n",
        "            print(f'{epoch:5d}\\t{J_history[-1]}\\t')\n",
        "        dJ = grad2(theta,X,y)\n",
        "        J = cost2(theta,X,y)\n",
        "        if use_armijo:learning_rate= armijo(X,y,theta,grad2,cost2)\n",
        "        thetanew = theta - learning_rate*dJ\n",
        "        theta_history.append(thetanew)\n",
        "        J_history.append(J)\n",
        "        \n",
        "        if np.sum((thetanew - theta)**2) < TOL:\n",
        "            print('Convergence achieved.')\n",
        "            break\n",
        "        theta = thetanew\n",
        "\n",
        "    return thetanew,theta_history,J_history"
      ],
      "execution_count": 412,
      "outputs": []
    },
    {
      "cell_type": "markdown",
      "metadata": {
        "id": "I1MDDlnU5lpu"
      },
      "source": [
        "fit the model"
      ]
    },
    {
      "cell_type": "code",
      "metadata": {
        "id": "r3HdHzLWNdfF",
        "colab": {
          "base_uri": "https://localhost:8080/"
        },
        "outputId": "5a12fe79-30ea-4d61-e1a9-ef56b23a27b0"
      },
      "source": [
        "theta,theta_history,J_history = LR(X,ynorm,use_armijo=1)\n"
      ],
      "execution_count": 413,
      "outputs": [
        {
          "output_type": "stream",
          "text": [
            "[[0]\n",
            " [0]\n",
            " [0]]\n",
            "epoch \t Cost2(J,X,y) \t\n",
            "    0\t[0.69314718]\t\n",
            "Convergence achieved.\n"
          ],
          "name": "stdout"
        }
      ]
    },
    {
      "cell_type": "markdown",
      "metadata": {
        "id": "C4vNSUgg5sjU"
      },
      "source": [
        "Plot the diserid in blue, the predicted in red"
      ]
    },
    {
      "cell_type": "code",
      "metadata": {
        "id": "2O_r5I6C5qMI",
        "colab": {
          "base_uri": "https://localhost:8080/",
          "height": 265
        },
        "outputId": "90a70111-8405-4601-c470-797a12b8f7ae"
      },
      "source": [
        "plt.scatter(x, ynorm)\n",
        "Y_pred = sigmoid( X.dot(theta))\n",
        "plt.scatter(x,Y_pred, color=\"red\") \n",
        "plt.show()"
      ],
      "execution_count": 414,
      "outputs": [
        {
          "output_type": "display_data",
          "data": {
            "image/png": "[encoded data removed]",
            "text/plain": [
              "<Figure size 432x288 with 1 Axes>"
            ]
          },
          "metadata": {
            "tags": [],
            "needs_background": "light"
          }
        }
      ]
    },
    {
      "cell_type": "markdown",
      "metadata": {
        "id": "ACCvpQDi57Sj"
      },
      "source": [
        "The losse **history**"
      ]
    },
    {
      "cell_type": "code",
      "metadata": {
        "id": "OwOe9zHhX3sS",
        "colab": {
          "base_uri": "https://localhost:8080/",
          "height": 282
        },
        "outputId": "e88438c8-c055-464a-f275-7083ee43bafb"
      },
      "source": [
        "plt.plot(J_history)"
      ],
      "execution_count": 415,
      "outputs": [
        {
          "output_type": "execute_result",
          "data": {
            "text/plain": [
              "[<matplotlib.lines.Line2D at 0x7f6ed782eef0>]"
            ]
          },
          "metadata": {
            "tags": []
          },
          "execution_count": 415
        },
        {
          "output_type": "display_data",
          "data": {
            "image/png": "[encoded data removed]",
            "text/plain": [
              "<Figure size 432x288 with 1 Axes>"
            ]
          },
          "metadata": {
            "tags": [],
            "needs_background": "light"
          }
        }
      ]
    }
  ]
}