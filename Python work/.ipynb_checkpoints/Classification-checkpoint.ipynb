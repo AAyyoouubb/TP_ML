{
 "cells": [
  {
   "cell_type": "code",
   "execution_count": 1,
   "metadata": {},
   "outputs": [],
   "source": [
    "import pandas as pd\n",
    "import matplotlib.pyplot as plt\n",
    "import numpy as np"
   ]
  },
  {
   "cell_type": "code",
   "execution_count": 34,
   "metadata": {},
   "outputs": [],
   "source": [
    "data=pd.read_csv(\"Classification.csv\")\n",
    "# shuffle data\n",
    "data=data.sample(frac=1)\n",
    "x=data.drop('y',axis=1).to_numpy()\n",
    "y=np.reshape(data.y.to_numpy(),(x.shape[0],1))\n",
    "#splitting \n",
    "split=int(.77*data.shape[0])\n",
    "train_data,train_label,test_data,test_label=x[:split],y[:split],x[split:],y[split:]"
   ]
  },
  {
   "cell_type": "code",
   "execution_count": 35,
   "metadata": {},
   "outputs": [
    {
     "name": "stdout",
     "output_type": "stream",
     "text": [
      "Number of features:  2\n",
      "Number of classes:  2\n",
      "231  training examples.\n",
      "Dataset contains missing values? False\n"
     ]
    }
   ],
   "source": [
    "# q1\n",
    "print(\"Number of features: \",data.shape[1]-1)\n",
    "print(\"Number of classes: \", len(data.y.unique()))\n",
    "print(split, \" training examples.\")\n",
    "print(\"Dataset contains missing values?\",data.isnull().values.any())"
   ]
  },
  {
   "cell_type": "code",
   "execution_count": 4,
   "metadata": {},
   "outputs": [],
   "source": [
    "#q2\n",
    "colors = {0:'b', 1:'r'}\n",
    "fig,ax=plt.subplots()\n",
    "for i in range(data.shape[0]):\n",
    "    ax.scatter(data.x_1[i],data.x_2[i],color=colors[data.y[i]])\n",
    "plt.savefig('data.png')"
   ]
  },
  {
   "cell_type": "code",
   "execution_count": 36,
   "metadata": {},
   "outputs": [],
   "source": [
    "#q5\n",
    "def perceptron(x,y,max_iter=1e3):\n",
    "    # Note: y should be -1 and 1 array!\n",
    "    y=2*y-1\n",
    "    b=np.ones((x.shape[0],1))\n",
    "    X=np.concatenate((x,b),axis=1)\n",
    "    w=np.random.rand(X.shape[1],1)\n",
    "    t=0\n",
    "    while np.sum(X.dot(w)*y<0)!=0 and t<max_iter:\n",
    "        for i in range(X.shape[0]):\n",
    "            if X[i].dot(w)*y[i]<0:\n",
    "                w=w+y[i][0]*np.vstack(X[i])\n",
    "        t+=1\n",
    "    print(np.sum((X.dot(w)*y)<0))\n",
    "    return w\n",
    "w=perceptron(train_data,train_label,10)\n",
    "print(\"Accuracy of model:\", \n",
    "      np.sum((test_data.dot(w[:-1])+w[-1][0])*test_label<0)/test_data.shape[0])"
   ]
  },
  {
   "cell_type": "code",
   "execution_count": null,
   "metadata": {},
   "outputs": [],
   "source": [
    "# q6: disturbing data.\n"
   ]
  },
  {
   "cell_type": "code",
   "execution_count": null,
   "metadata": {},
   "outputs": [],
   "source": []
  }
 ],
 "metadata": {
  "kernelspec": {
   "display_name": "Python 3.8 (XPython)",
   "language": "python",
   "name": "xpython"
  },
  "language_info": {
   "file_extension": ".py",
   "mimetype": "text/x-python",
   "name": "python",
   "version": "3.8.6"
  }
 },
 "nbformat": 4,
 "nbformat_minor": 4
}
