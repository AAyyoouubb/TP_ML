{
 "cells": [
  {
   "cell_type": "code",
   "execution_count": 78,
   "metadata": {},
   "outputs": [],
   "source": [
    "from copy import copy\n",
    "import pandas as pd\n",
    "import matplotlib.pyplot as plt\n",
    "import numpy as np\n",
    "%matplotlib inline"
   ]
  },
  {
   "cell_type": "code",
   "execution_count": 79,
   "metadata": {},
   "outputs": [],
   "source": [
    "data=pd.read_csv(\"Classification.csv\")\n",
    "def split_data(data,frac=.8):\n",
    "    # shuffle data\n",
    "    data=data.sample(frac=1)\n",
    "    x=data.drop('y',axis=1).to_numpy()\n",
    "    y=np.reshape(data.y.to_numpy(),(x.shape[0],1))\n",
    "    # Change label from 0/1 to -1/1\n",
    "    y=2*y-1\n",
    "    #splitting \n",
    "    split=int(frac*data.shape[0])\n",
    "    train_data,train_label,test_data,test_label=x[:split],y[:split],x[split:],y[split:]\n",
    "    return train_data,train_label,test_data,test_label"
   ]
  },
  {
   "cell_type": "code",
   "execution_count": 80,
   "metadata": {},
   "outputs": [
    {
     "name": "stdout",
     "output_type": "stream",
     "text": [
      "Number of features:  2\n",
      "Number of classes:  2\n",
      "231  training examples.\n",
      "69  testing examples.\n",
      "Dataset contains missing values? False\n"
     ]
    }
   ],
   "source": [
    "# q1\n",
    "train_data,train_label,test_data,test_label=split_data(data,frac=.77)\n",
    "print(\"Number of features: \",data.shape[1]-1)\n",
    "print(\"Number of classes: \", len(data.y.unique()))\n",
    "print(train_data.shape[0], \" training examples.\")\n",
    "print(test_data.shape[0], \" testing examples.\")\n",
    "print(\"Dataset contains missing values?\",data.isnull().values.any())"
   ]
  },
  {
   "cell_type": "code",
   "execution_count": 81,
   "metadata": {},
   "outputs": [
    {
     "data": {
      "image/png": "[encoded data removed]",
      "text/plain": [
       "<Figure size 432x288 with 1 Axes>"
      ]
     },
     "metadata": {
      "needs_background": "light"
     },
     "output_type": "display_data"
    }
   ],
   "source": [
    "#q2\n",
    "colors = {0:'b', 1:'r'}\n",
    "fig,ax=plt.subplots()\n",
    "for i in range(data.shape[0]):\n",
    "    ax.scatter(data.x_1[i],data.x_2[i],color=colors[data.y[i]])\n",
    "plt.savefig('data.png')\n",
    "plt.show()"
   ]
  },
  {
   "cell_type": "code",
   "execution_count": 82,
   "metadata": {},
   "outputs": [
    {
     "name": "stdout",
     "output_type": "stream",
     "text": [
      "Training error:  0.0\n",
      "Accuracy of model: 1.0\n"
     ]
    }
   ],
   "source": [
    "#q5\n",
    "def perceptron(x,y):\n",
    "    # Note: y should be -1 and 1 array!\n",
    "    b=np.ones((x.shape[0],1))\n",
    "    X=np.concatenate((x,b),axis=1)\n",
    "    w=np.random.rand(X.shape[1],1)\n",
    "    while np.sum(X.dot(w)*y<=0)!=0:\n",
    "        for i in range(X.shape[0]):\n",
    "            if X[i].dot(w)*y[i]<0:\n",
    "                w=w+y[i][0]*np.vstack(X[i])\n",
    "    return w\n",
    "w=perceptron(train_data,train_label)\n",
    "print(\"Training error: \",\n",
    "      np.sum((train_data.dot(w[:-1])+w[-1][0])*train_label<=0)/train_data.shape[0])\n",
    "print(\"Accuracy of model:\", \n",
    "      np.sum((test_data.dot(w[:-1])+w[-1][0])*test_label>0)/test_data.shape[0])"
   ]
  },
  {
   "cell_type": "code",
   "execution_count": 92,
   "metadata": {},
   "outputs": [
    {
     "data": {
      "image/png": "[encoded data removed]",
      "text/plain": [
       "<Figure size 432x288 with 1 Axes>"
      ]
     },
     "metadata": {
      "needs_background": "light"
     },
     "output_type": "display_data"
    }
   ],
   "source": [
    "# q6: disturbing data.\n",
    "class1_size=data.groupby('y').size()[0]\n",
    "indices=data.loc[data.y==0,:].index\n",
    "indices_to_disturb=np.random.choice(indices,round(class1_size*0.07),replace=False)\n",
    "data.loc[indices_to_disturb,'y']=1\n",
    "train_data,train_label,test_data,test_label=split_data(data,frac=.77)\n",
    "colors = {0:'b', 1:'r'}\n",
    "fig,ax=plt.subplots()\n",
    "for i in range(data.shape[0]):\n",
    "    ax.scatter(data.x_1[i],data.x_2[i],color=colors[data.y[i]])\n",
    "plt.savefig('disturb.png')\n",
    "plt.show()"
   ]
  },
  {
   "cell_type": "code",
   "execution_count": 89,
   "metadata": {},
   "outputs": [
    {
     "name": "stdout",
     "output_type": "stream",
     "text": [
      "Training error:  0.06926406926406926\n",
      "Accuracy of model: 0.927536231884058\n"
     ]
    }
   ],
   "source": [
    "#q7\n",
    "def pocket(x,y,max_iter=1e3):\n",
    "    # Note: y should be -1 and 1 array!\n",
    "    b=np.ones((x.shape[0],1))\n",
    "    X=np.concatenate((x,b),axis=1)\n",
    "    w=np.random.rand(X.shape[1],1)\n",
    "    loss=np.sum(X.dot(w)*y<=0)\n",
    "    t=0\n",
    "    w_best=copy(w)\n",
    "    best_loss=loss\n",
    "    while loss!=0 and t<max_iter:\n",
    "        for i in range(X.shape[0]):\n",
    "            if X[i].dot(w)*y[i]<0:\n",
    "                w=w+y[i][0]*np.vstack(X[i])\n",
    "        loss=np.sum(X.dot(w)*y<=0)\n",
    "        if best_loss>loss:\n",
    "            w_best=copy(w)\n",
    "            best_loss=loss\n",
    "        t+=1\n",
    "    return w_best\n",
    "w=pocket(train_data,train_label,100)\n",
    "print(\"Training error: \",\n",
    "      np.sum((train_data.dot(w[:-1])+w[-1][0])*train_label<=0)/train_data.shape[0])\n",
    "print(\"Accuracy of model:\", \n",
    "      np.sum((test_data.dot(w[:-1])+w[-1][0])*test_label<=0)/test_data.shape[0])"
   ]
  },
  {
   "cell_type": "code",
   "execution_count": 91,
   "metadata": {},
   "outputs": [
    {
     "name": "stdout",
     "output_type": "stream",
     "text": [
      "Training error:  0.39877401700518433\n",
      "Accuracy of model: 0.9130434782608695\n"
     ]
    }
   ],
   "source": [
    "def adaline(x,y,max_iter=10e4):\n",
    "    b=np.ones((x.shape[0],1))\n",
    "    X=np.concatenate((x,b),axis=1)\n",
    "    w=np.random.rand(X.shape[1],1)\n",
    "    i=0\n",
    "    while i<max_iter:\n",
    "         for i in range(X.shape[0]):\n",
    "            e=2*(X[i].dot(w)-y[i])/x.shape[0]\n",
    "            if e!=0:\n",
    "                w=w-e*np.vstack(X[i])\n",
    "    return w\n",
    "w=adaline(train_data,train_label,100)\n",
    "print(\"Training error: \",\n",
    "      np.sum((train_data.dot(w[:-1])+w[-1][0]-train_label)**2)/train_data.shape[0])\n",
    "print(\"Accuracy of model:\", \n",
    "      np.sum((test_data.dot(w[:-1])+w[-1][0])*test_label>0)/test_data.shape[0])"
   ]
  },
  {
   "cell_type": "code",
   "execution_count": null,
   "metadata": {},
   "outputs": [],
   "source": []
  }
 ],
 "metadata": {
  "kernelspec": {
   "display_name": "Python 3",
   "language": "python",
   "name": "python3"
  },
  "language_info": {
   "codemirror_mode": {
    "name": "ipython",
    "version": 3
   },
   "file_extension": ".py",
   "mimetype": "text/x-python",
   "name": "python",
   "nbconvert_exporter": "python",
   "pygments_lexer": "ipython3",
   "version": "3.8.5"
  }
 },
 "nbformat": 4,
 "nbformat_minor": 4
}
