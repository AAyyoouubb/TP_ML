{
  "nbformat": 4,
  "nbformat_minor": 0,
  "metadata": {
    "colab": {
      "name": "Project-Regression.ipynb",
      "provenance": [],
      "collapsed_sections": [],
      "authorship_tag": "ABX9TyMSodqQ0OANKb1/94Cm5fVY",
      "include_colab_link": true
    },
    "kernelspec": {
      "name": "python3",
      "display_name": "Python 3"
    }
  },
  "cells": [
    {
      "cell_type": "markdown",
      "metadata": {
        "id": "view-in-github",
        "colab_type": "text"
      },
      "source": [
        "<a href=\"https://colab.research.google.com/github/AAyyoouubb/TP_ML/blob/master/FIRE/Project_Regression.ipynb\" target=\"_parent\"><img src=\"https://colab.research.google.com/assets/colab-badge.svg\" alt=\"Open In Colab\"/></a>"
      ]
    },
    {
      "cell_type": "markdown",
      "metadata": {
        "id": "KpXCIRyLoCDe"
      },
      "source": [
        "Our dataset exist in google drive in a folder **project_machinglearning_S3**, therefore we  will open this folder as root directory"
      ]
    },
    {
      "cell_type": "code",
      "metadata": {
        "id": "nxmgG7s8hjij",
        "colab": {
          "base_uri": "https://localhost:8080/"
        },
        "outputId": "5fdef598-fa3f-4374-a399-b639f0825c26"
      },
      "source": [
        "from google.colab import drive\n",
        "drive.mount('/content/drive/')\n",
        "\n",
        "# change to default path of datasets\n",
        "import os\n",
        "os.chdir(\"/content/drive/MyDrive/project_machinglearning_S3\")\n",
        "! ls"
      ],
      "execution_count": 1,
      "outputs": [
        {
          "output_type": "stream",
          "text": [
            "Mounted at /content/drive/\n",
            "classification_data7.csv  data8.csv\t   Part2_data4.rar\n",
            "data4.csv\t\t  Part1_data8.rar\n"
          ],
          "name": "stdout"
        }
      ]
    },
    {
      "cell_type": "markdown",
      "metadata": {
        "id": "qu2QvzuJofD_"
      },
      "source": [
        "\n",
        "Cheching the existing the two part of the datasets:\n",
        "* **data8.csv** For First Part\n",
        "* **data4.csv** For Second Part"
      ]
    },
    {
      "cell_type": "code",
      "metadata": {
        "colab": {
          "base_uri": "https://localhost:8080/"
        },
        "id": "FgkwD7WplPF9",
        "outputId": "ddd89fa8-02fc-4ca8-81e4-255556115295"
      },
      "source": [
        "! ls data*"
      ],
      "execution_count": null,
      "outputs": [
        {
          "output_type": "stream",
          "text": [
            "data4.csv  data8.csv\n"
          ],
          "name": "stdout"
        }
      ]
    },
    {
      "cell_type": "markdown",
      "metadata": {
        "id": "UhDI7tI7os0-"
      },
      "source": [
        "Importing libraries,\n",
        "* **numpy** for matrix structures\n",
        "* **pandas** for reading tables\n",
        "* **matplotlib**  for visualization\n"
      ]
    },
    {
      "cell_type": "code",
      "metadata": {
        "id": "wDbF5XzJl6ut"
      },
      "source": [
        "import numpy as np\n",
        "import pandas as pd\n",
        "import matplotlib.pyplot as plt\n",
        "from pandas.plotting import scatter_matrix as sm\n",
        "import random\n",
        "%matplotlib inline\n",
        "import warnings  \n",
        "warnings.filterwarnings('ignore')"
      ],
      "execution_count": 2,
      "outputs": []
    },
    {
      "cell_type": "markdown",
      "metadata": {
        "id": "pJhEmhVPjUd-"
      },
      "source": [
        "### **First Part:**"
      ]
    },
    {
      "cell_type": "markdown",
      "metadata": {
        "id": "kbzIfvh9lnXL"
      },
      "source": [
        "Reading the data using `pandas`."
      ]
    },
    {
      "cell_type": "code",
      "metadata": {
        "id": "Qr_49wUHj55X"
      },
      "source": [
        "data =pd.read_csv(\"data8.csv\")"
      ],
      "execution_count": 3,
      "outputs": []
    },
    {
      "cell_type": "markdown",
      "metadata": {
        "id": "8NAHuAY4j6Cn"
      },
      "source": [
        "Spliting the data into **80%** training set and **20%** testing set."
      ]
    },
    {
      "cell_type": "code",
      "metadata": {
        "id": "nTcAPt9kj6NP",
        "colab": {
          "base_uri": "https://localhost:8080/"
        },
        "outputId": "7d220289-b11e-4ec6-fe15-d9612bceabf6"
      },
      "source": [
        "y=data.y.values.reshape(-1,1)\n",
        "print(y.shape)\n",
        "x=data[\"x\"].values.reshape(-1,1)\n",
        "\n",
        "\n",
        "X = np.concatenate((np.ones((len(x),1)),x),axis=1)\n",
        "print(X.shape)\n",
        "\n",
        "trainingSplit = int(.8 * data.shape[0])\n",
        "\n",
        "xtrain = X[:trainingSplit]\n",
        "ytrain = y[:trainingSplit] \n",
        "xtest = X[trainingSplit:]\n",
        "ytest = y[trainingSplit:]"
      ],
      "execution_count": 4,
      "outputs": [
        {
          "output_type": "stream",
          "text": [
            "(230, 1)\n",
            "(230, 2)\n"
          ],
          "name": "stdout"
        }
      ]
    },
    {
      "cell_type": "markdown",
      "metadata": {
        "id": "Wqgs81k8j6dH"
      },
      "source": [
        "\n",
        "**Q1.**\n",
        "\n",
        "\n",
        "1.  There are 2 features `x` and `y`.\n",
        "2.  The size of training set is **184** and the size of testing set is 46.\n",
        "3.  Bellow the describtion of the data: \n",
        "\n",
        "feature| mean | median | min | max\n",
        "--- | --- | --- | --- | ---\n",
        "x | 11.45|-0.1 |0|22.9\n",
        "y | 25.94| 157.93|-0.43|50.44\n",
        "\n"
      ]
    },
    {
      "cell_type": "code",
      "metadata": {
        "colab": {
          "base_uri": "https://localhost:8080/"
        },
        "id": "OZtZFC1wj6m8",
        "outputId": "8e28d584-8f6a-432a-aff5-72f35697d764"
      },
      "source": [
        "print(*data.columns)"
      ],
      "execution_count": null,
      "outputs": [
        {
          "output_type": "stream",
          "text": [
            "x y\n"
          ],
          "name": "stdout"
        }
      ]
    },
    {
      "cell_type": "code",
      "metadata": {
        "colab": {
          "base_uri": "https://localhost:8080/"
        },
        "id": "F6ugKzNykLeu",
        "outputId": "75215277-f534-4852-9726-b2b670730c53"
      },
      "source": [
        "print(xtrain.shape,ytrain.shape)\n",
        "print(xtest.shape,ytest.shape)"
      ],
      "execution_count": null,
      "outputs": [
        {
          "output_type": "stream",
          "text": [
            "(184,) (184,)\n",
            "(46,) (46,)\n"
          ],
          "name": "stdout"
        }
      ]
    },
    {
      "cell_type": "code",
      "metadata": {
        "colab": {
          "base_uri": "https://localhost:8080/"
        },
        "id": "TNon3M2CkPQX",
        "outputId": "21046ce3-2e3e-4d1d-8cd0-460fc4e1a1ff"
      },
      "source": [
        "print(data.describe())\n"
      ],
      "execution_count": null,
      "outputs": [
        {
          "output_type": "stream",
          "text": [
            "                x           y\n",
            "count  230.000000  230.000000\n",
            "mean    11.450000   25.945763\n",
            "std      6.653946   13.597779\n",
            "min      0.000000   -0.431536\n",
            "25%      5.725000   14.343240\n",
            "50%     11.450000   26.286147\n",
            "75%     17.175000   37.487885\n",
            "max     22.900000   50.444631\n"
          ],
          "name": "stdout"
        }
      ]
    },
    {
      "cell_type": "markdown",
      "metadata": {
        "id": "jRINi5IYlOFv"
      },
      "source": [
        "***Q2.***"
      ]
    },
    {
      "cell_type": "code",
      "metadata": {
        "colab": {
          "base_uri": "https://localhost:8080/",
          "height": 282
        },
        "id": "tHZxEB-JkiyV",
        "outputId": "87552d8a-5ae3-4c7c-c833-88e1df75ebc7"
      },
      "source": [
        "plt.scatter(x, y)"
      ],
      "execution_count": 84,
      "outputs": [
        {
          "output_type": "execute_result",
          "data": {
            "text/plain": [
              "<matplotlib.collections.PathCollection at 0x7f7c5127c518>"
            ]
          },
          "metadata": {
            "tags": []
          },
          "execution_count": 84
        },
        {
          "output_type": "display_data",
          "data": {
            "image/png": "[encoded data removed]",
            "text/plain": [
              "<Figure size 432x288 with 1 Axes>"
            ]
          },
          "metadata": {
            "tags": [],
            "needs_background": "light"
          }
        }
      ]
    },
    {
      "cell_type": "markdown",
      "metadata": {
        "id": "OnIP0jhmlWFM"
      },
      "source": [
        "**Q3.** According to the ploting, the data is linear.\n",
        "It is Supervised because there is no missing data because the size of features equal the size of labels.\n",
        "\n",
        "**Q4.** Different metrics :\n",
        "\n",
        "\n",
        "**Q5.** Lets build the following functions\n"
      ]
    },
    {
      "cell_type": "code",
      "metadata": {
        "colab": {
          "base_uri": "https://localhost:8080/"
        },
        "id": "ARBoONmOse6F",
        "outputId": "cad2b2f8-b002-4033-eaf8-64e9fc715006"
      },
      "source": [
        "m = data.shape[0]\n",
        "print(\"m=\",m)\n",
        "# calculate gradient\n",
        "def grad(theta,X,y):\n",
        "    dJ = 1/m*np.sum((X.dot(theta)-y)*X,axis=0).reshape(-1,1)\n",
        "    return dJ"
      ],
      "execution_count": 5,
      "outputs": [
        {
          "output_type": "stream",
          "text": [
            "m= 230\n"
          ],
          "name": "stdout"
        }
      ]
    },
    {
      "cell_type": "code",
      "metadata": {
        "id": "iH8pplhk4WIP"
      },
      "source": [
        "def cost(theta,X,y):\n",
        "    J = np.sum((X.dot(theta)-y)**2,axis=0)[0]\n",
        "    return J\n",
        "\n"
      ],
      "execution_count": 7,
      "outputs": []
    },
    {
      "cell_type": "code",
      "metadata": {
        "id": "mNdYbYW54kAH"
      },
      "source": [
        "def GD(X,y,learning_rate = 0.001,epochs=1000,TOL=1e-7):\n",
        "    theta = np.array([[0],[0]])\n",
        "    \n",
        "    theta_history = [theta]\n",
        "    J_history = [cost(theta,X,y)]\n",
        "    \n",
        "    thetanew = theta\n",
        "    print(f'epoch \\t Cost(J,X,y) \\t')\n",
        "    for epoch in range(epochs):\n",
        "        if epoch%100 == 0:\n",
        "            print(f'{epoch:5d}\\t{J_history[-1]:7.4f}\\t')\n",
        "        dJ = grad(theta,X,y)\n",
        "        J = cost(theta,X,y)\n",
        "        \n",
        "        thetanew = theta - learning_rate*dJ\n",
        "        theta_history.append(thetanew)\n",
        "        J_history.append(J)\n",
        "        \n",
        "        if np.sum((thetanew - theta)**2) < TOL:\n",
        "            print('Convergence achieved.')\n",
        "            break\n",
        "        theta = thetanew\n",
        "\n",
        "    return thetanew,theta_history,J_history"
      ],
      "execution_count": 8,
      "outputs": []
    },
    {
      "cell_type": "code",
      "metadata": {
        "colab": {
          "base_uri": "https://localhost:8080/",
          "height": 452
        },
        "id": "NXhYMwwU86Gw",
        "outputId": "d5e699a9-2936-4006-d683-ba1370dd9df8"
      },
      "source": [
        "theta,theta_history,J_history = GD(X,y)\n",
        "plt.scatter(data.x.values, y)\n",
        "Y_pred = X.dot(theta)\n",
        "plt.plot([min(x), max(x)], [min(Y_pred), max(Y_pred)], color=\"red\") # predicted\n",
        "plt.show()"
      ],
      "execution_count": 11,
      "outputs": [
        {
          "output_type": "stream",
          "text": [
            "epoch \t Cost(J,X,y) \t\n",
            "    0\t197174.0059\t\n",
            "  100\t1329.3509\t\n",
            "  200\t1310.2442\t\n",
            "  300\t1292.0714\t\n",
            "  400\t1274.7871\t\n",
            "  500\t1258.3476\t\n",
            "  600\t1242.7117\t\n",
            "  700\t1227.8402\t\n",
            "  800\t1213.6957\t\n",
            "  900\t1200.2426\t\n"
          ],
          "name": "stdout"
        },
        {
          "output_type": "display_data",
          "data": {
            "image/png": "[encoded data removed]",
            "text/plain": [
              "<Figure size 432x288 with 1 Axes>"
            ]
          },
          "metadata": {
            "tags": [],
            "needs_background": "light"
          }
        }
      ]
    },
    {
      "cell_type": "code",
      "metadata": {
        "colab": {
          "base_uri": "https://localhost:8080/",
          "height": 826
        },
        "id": "YygKQ4J049IE",
        "outputId": "bfc365f0-6abd-40e4-8c10-211462b090a9"
      },
      "source": [
        "models = []\n",
        "models.append( GD(X,y,learning_rate = 0.001))\n",
        "models.append( GD(X,y,learning_rate = 0.002))\n",
        "models.append( GD(X,y,learning_rate = 0.003))\n",
        "\n",
        "# Making predictions\n",
        "plt.scatter(data.x.values, y)\n",
        "\n",
        "colors = ['red' , 'blue', \"green\",\"black\"]\n",
        "for color,model in zip(colors,models):\n",
        "  theta = model[0]\n",
        "  Y_pred = X.dot(theta)\n",
        "  plt.plot([min(x), max(x)], [min(Y_pred), max(Y_pred)], color=color) # predicted\n",
        "plt.show()"
      ],
      "execution_count": 13,
      "outputs": [
        {
          "output_type": "stream",
          "text": [
            "epoch \t Cost(J,X,y) \t\n",
            "    0\t197174.0059\t\n",
            "  100\t1329.3509\t\n",
            "  200\t1310.2442\t\n",
            "  300\t1292.0714\t\n",
            "  400\t1274.7871\t\n",
            "  500\t1258.3476\t\n",
            "  600\t1242.7117\t\n",
            "  700\t1227.8402\t\n",
            "  800\t1213.6957\t\n",
            "  900\t1200.2426\t\n",
            "epoch \t Cost(J,X,y) \t\n",
            "    0\t197174.0059\t\n",
            "  100\t1310.4259\t\n",
            "  200\t1274.9472\t\n",
            "  300\t1242.8528\t\n",
            "  400\t1213.8198\t\n",
            "  500\t1187.5563\t\n",
            "  600\t1163.7980\t\n",
            "  700\t1142.3059\t\n",
            "  800\t1122.8640\t\n",
            "  900\t1105.2766\t\n",
            "epoch \t Cost(J,X,y) \t\n",
            "    0\t197174.0059\t\n",
            "  100\t1292.4128\t\n",
            "  200\t1242.9940\t\n",
            "  300\t1200.4755\t\n",
            "  400\t1163.8940\t\n",
            "  500\t1132.4203\t\n",
            "  600\t1105.3414\t\n",
            "  700\t1082.0435\t\n",
            "  800\t1061.9987\t\n",
            "  900\t1044.7528\t\n"
          ],
          "name": "stdout"
        },
        {
          "output_type": "display_data",
          "data": {
            "image/png": "[encoded data removed]",
            "text/plain": [
              "<Figure size 432x288 with 1 Axes>"
            ]
          },
          "metadata": {
            "tags": [],
            "needs_background": "light"
          }
        }
      ]
    },
    {
      "cell_type": "markdown",
      "metadata": {
        "id": "My2IXdbWj1Mh"
      },
      "source": [
        "### **Second Part**"
      ]
    },
    {
      "cell_type": "code",
      "metadata": {
        "id": "uVw1ShvFdw2B"
      },
      "source": [
        "data = pd.read_csv(\"data4.csv\")"
      ],
      "execution_count": null,
      "outputs": []
    },
    {
      "cell_type": "markdown",
      "metadata": {
        "id": "aKwx_XGaqpwb"
      },
      "source": [
        "Spliting to traing and testing"
      ]
    },
    {
      "cell_type": "code",
      "metadata": {
        "id": "5PBsamQdquJV"
      },
      "source": [
        "y=data.y\n",
        "x=data.x\n",
        "\n",
        "trainingSplit = int(.8 * data.shape[0])\n",
        "\n",
        "xtrain = x[:trainingSplit]\n",
        "ytrain = y[:trainingSplit] \n",
        "xtest = x[trainingSplit:]\n",
        "ytest = y[trainingSplit:]"
      ],
      "execution_count": null,
      "outputs": []
    },
    {
      "cell_type": "markdown",
      "metadata": {
        "id": "MmsXtFTMp0Kz"
      },
      "source": [
        "**1.1.** The data contain 2 features `x` and `y`."
      ]
    },
    {
      "cell_type": "code",
      "metadata": {
        "colab": {
          "base_uri": "https://localhost:8080/"
        },
        "id": "pKhC9dCPnyOm",
        "outputId": "5d083b72-de9a-4baa-dbc9-6a16cdca5891"
      },
      "source": [
        "print(*data.columns)"
      ],
      "execution_count": null,
      "outputs": [
        {
          "output_type": "stream",
          "text": [
            "x y\n"
          ],
          "name": "stdout"
        }
      ]
    },
    {
      "cell_type": "markdown",
      "metadata": {
        "id": "pNQycAw2rNJ1"
      },
      "source": [
        "**1.2.**  The size of training set is **192**, the size of testing size is **48**.\n",
        "\n",
        "\n",
        "\n",
        "\n",
        "\n",
        "\n",
        "\n"
      ]
    },
    {
      "cell_type": "code",
      "metadata": {
        "colab": {
          "base_uri": "https://localhost:8080/"
        },
        "id": "mQc0OCtUrP2S",
        "outputId": "8132fc4d-2295-4d00-d02c-12db536665b8"
      },
      "source": [
        "print(xtrain.shape,ytrain.shape)\n",
        "print(xtest.shape,ytest.shape)"
      ],
      "execution_count": null,
      "outputs": [
        {
          "output_type": "stream",
          "text": [
            "(192,) (192,)\n",
            "(48,) (48,)\n"
          ],
          "name": "stdout"
        }
      ]
    },
    {
      "cell_type": "markdown",
      "metadata": {
        "id": "QyUwDyeXr0mc"
      },
      "source": [
        "**1.3.** According to the ploting, The data is polynomial.\n",
        "\n",
        "The data is Supervided : There is no missing data because the size of features equal the size of labels"
      ]
    },
    {
      "cell_type": "markdown",
      "metadata": {
        "id": "Le8TdH12sLUH"
      },
      "source": [
        "**1.4.** bellow the describtion of our dataset :\n",
        "\n",
        " feature| mean | median | min | max\n",
        "--- | --- | --- | --- | ---\n",
        "x | -0.1|-0.1 |-24|23.8\n",
        "y | 193.31| 157.39|-67.13|578.49"
      ]
    },
    {
      "cell_type": "code",
      "metadata": {
        "id": "pWDmnUvmtGTI",
        "colab": {
          "base_uri": "https://localhost:8080/",
          "height": 297
        },
        "outputId": "94320aca-0091-4673-af23-868dce17bc71"
      },
      "source": [
        "data.describe()"
      ],
      "execution_count": null,
      "outputs": [
        {
          "output_type": "execute_result",
          "data": {
            "text/html": [
              "<div>\n",
              "<style scoped>\n",
              "    .dataframe tbody tr th:only-of-type {\n",
              "        vertical-align: middle;\n",
              "    }\n",
              "\n",
              "    .dataframe tbody tr th {\n",
              "        vertical-align: top;\n",
              "    }\n",
              "\n",
              "    .dataframe thead th {\n",
              "        text-align: right;\n",
              "    }\n",
              "</style>\n",
              "<table border=\"1\" class=\"dataframe\">\n",
              "  <thead>\n",
              "    <tr style=\"text-align: right;\">\n",
              "      <th></th>\n",
              "      <th>x</th>\n",
              "      <th>y</th>\n",
              "    </tr>\n",
              "  </thead>\n",
              "  <tbody>\n",
              "    <tr>\n",
              "      <th>count</th>\n",
              "      <td>240.000000</td>\n",
              "      <td>240.000000</td>\n",
              "    </tr>\n",
              "    <tr>\n",
              "      <th>mean</th>\n",
              "      <td>-0.100000</td>\n",
              "      <td>193.313566</td>\n",
              "    </tr>\n",
              "    <tr>\n",
              "      <th>std</th>\n",
              "      <td>13.885244</td>\n",
              "      <td>172.459213</td>\n",
              "    </tr>\n",
              "    <tr>\n",
              "      <th>min</th>\n",
              "      <td>-24.000000</td>\n",
              "      <td>-67.135789</td>\n",
              "    </tr>\n",
              "    <tr>\n",
              "      <th>25%</th>\n",
              "      <td>-12.050000</td>\n",
              "      <td>41.201270</td>\n",
              "    </tr>\n",
              "    <tr>\n",
              "      <th>50%</th>\n",
              "      <td>-0.100000</td>\n",
              "      <td>157.391379</td>\n",
              "    </tr>\n",
              "    <tr>\n",
              "      <th>75%</th>\n",
              "      <td>11.850000</td>\n",
              "      <td>324.378494</td>\n",
              "    </tr>\n",
              "    <tr>\n",
              "      <th>max</th>\n",
              "      <td>23.800000</td>\n",
              "      <td>578.496869</td>\n",
              "    </tr>\n",
              "  </tbody>\n",
              "</table>\n",
              "</div>"
            ],
            "text/plain": [
              "                x           y\n",
              "count  240.000000  240.000000\n",
              "mean    -0.100000  193.313566\n",
              "std     13.885244  172.459213\n",
              "min    -24.000000  -67.135789\n",
              "25%    -12.050000   41.201270\n",
              "50%     -0.100000  157.391379\n",
              "75%     11.850000  324.378494\n",
              "max     23.800000  578.496869"
            ]
          },
          "metadata": {
            "tags": []
          },
          "execution_count": 47
        }
      ]
    },
    {
      "cell_type": "markdown",
      "metadata": {
        "id": "QZyrhi3OwdRC"
      },
      "source": [
        "***Q2.***"
      ]
    },
    {
      "cell_type": "markdown",
      "metadata": {
        "id": "bqB77zBNwhrV"
      },
      "source": [
        "Using `matplotlib.scatter` to plot our **2D** dataset as scatters."
      ]
    },
    {
      "cell_type": "code",
      "metadata": {
        "colab": {
          "base_uri": "https://localhost:8080/",
          "height": 283
        },
        "id": "Q1weoEPwxMJg",
        "outputId": "75438a73-7112-4b9b-fde8-b79bb8a55d82"
      },
      "source": [
        "plt.scatter(x, y)\n"
      ],
      "execution_count": null,
      "outputs": [
        {
          "output_type": "execute_result",
          "data": {
            "text/plain": [
              "<matplotlib.collections.PathCollection at 0x7f75c0531358>"
            ]
          },
          "metadata": {
            "tags": []
          },
          "execution_count": 48
        },
        {
          "output_type": "display_data",
          "data": {
            "image/png": "[encoded data removed]",
            "text/plain": [
              "<Figure size 432x288 with 1 Axes>"
            ]
          },
          "metadata": {
            "tags": [],
            "needs_background": "light"
          }
        }
      ]
    },
    {
      "cell_type": "markdown",
      "metadata": {
        "id": "gZClmXy1hLIz"
      },
      "source": [
        "***Q3.*** As showen in the figure above. Our dataset is polynomial of degree 2.\n",
        "\n",
        "The nature of the dataset is **supervised** because the data is labeled."
      ]
    },
    {
      "cell_type": "markdown",
      "metadata": {
        "id": "pRcxgpoTiyym"
      },
      "source": [
        "***Q4.*** Different metrics :\n"
      ]
    },
    {
      "cell_type": "code",
      "metadata": {
        "id": "nV2inqZvhB3O"
      },
      "source": [
        ""
      ],
      "execution_count": null,
      "outputs": []
    }
  ]
}