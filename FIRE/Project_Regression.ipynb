{
 "cells": [
  {
   "cell_type": "markdown",
   "metadata": {
    "colab_type": "text",
    "id": "view-in-github"
   },
   "source": [
    "<a href=\"https://colab.research.google.com/github/AAyyoouubb/TP_ML/blob/master/FIRE/Project_Regression.ipynb\" target=\"_parent\"><img src=\"https://colab.research.google.com/assets/colab-badge.svg\" alt=\"Open In Colab\"/></a>"
   ]
  },
  {
   "cell_type": "markdown",
   "metadata": {
    "id": "KpXCIRyLoCDe"
   },
   "source": [
    "Our dataset exist in google drive in a folder **project_machinglearning_S3**, therefore we  will open this folder as root directory"
   ]
  },
  {
   "cell_type": "code",
   "execution_count": 99,
   "metadata": {
    "colab": {
     "base_uri": "https://localhost:8080/"
    },
    "id": "nxmgG7s8hjij",
    "outputId": "e77da89f-b031-4e2b-f65a-bb9f0f552147"
   },
   "outputs": [
    {
     "name": "stdout",
     "output_type": "stream",
     "text": [
      "Drive already mounted at /content/drive/; to attempt to forcibly remount, call drive.mount(\"/content/drive/\", force_remount=True).\n",
      "classification_data7.csv  data8.csv\t   Part2_data4.rar\n",
      "data4.csv\t\t  Part1_data8.rar\n"
     ]
    }
   ],
   "source": [
    "from google.colab import drive\n",
    "drive.mount('/content/drive/')\n",
    "\n",
    "# change to default path of datasets\n",
    "import os\n",
    "os.chdir(\"/content/drive/MyDrive/project_machinglearning_S3\")\n",
    "! ls"
   ]
  },
  {
   "cell_type": "markdown",
   "metadata": {
    "id": "qu2QvzuJofD_"
   },
   "source": [
    "\n",
    "Cheching the existing the two part of the datasets:\n",
    "* **data8.csv** For First Part\n",
    "* **data4.csv** For Second Part"
   ]
  },
  {
   "cell_type": "code",
   "execution_count": 100,
   "metadata": {
    "colab": {
     "base_uri": "https://localhost:8080/"
    },
    "id": "FgkwD7WplPF9",
    "outputId": "cf881150-0c1c-4c15-87cd-a918a58812b6"
   },
   "outputs": [
    {
     "name": "stdout",
     "output_type": "stream",
     "text": [
      "data4.csv  data8.csv\n"
     ]
    }
   ],
   "source": [
    "! ls data*"
   ]
  },
  {
   "cell_type": "markdown",
   "metadata": {
    "id": "UhDI7tI7os0-"
   },
   "source": [
    "Importing libraries,\n",
    "* **numpy** for matrix structures\n",
    "* **pandas** for reading tables\n",
    "* **matplotlib**  for visualization\n"
   ]
  },
  {
   "cell_type": "code",
   "execution_count": 1,
   "metadata": {
    "id": "wDbF5XzJl6ut"
   },
   "outputs": [],
   "source": [
    "import numpy as np\n",
    "import pandas as pd\n",
    "import matplotlib.pyplot as plt\n",
    "from pandas.plotting import scatter_matrix as sm\n",
    "import random\n",
    "%matplotlib inline\n",
    "import warnings  \n",
    "warnings.filterwarnings('ignore')"
   ]
  },
  {
   "cell_type": "markdown",
   "metadata": {
    "id": "pJhEmhVPjUd-"
   },
   "source": [
    "### **First Part:**"
   ]
  },
  {
   "cell_type": "markdown",
   "metadata": {
    "id": "kbzIfvh9lnXL"
   },
   "source": [
    "\n",
    "\n",
    "Pandas function `read_csv()` is used to read the csv file **data8.csv** and place it as a dataframe."
   ]
  },
  {
   "cell_type": "code",
   "execution_count": 2,
   "metadata": {
    "id": "Qr_49wUHj55X"
   },
   "outputs": [],
   "source": [
    "data =pd.read_csv(\"data8.csv\")\n",
    "data= data.sample(frac=1)"
   ]
  },
  {
   "cell_type": "markdown",
   "metadata": {
    "id": "Zln-wjvrf3B1"
   },
   "source": [
    "Split the dataset into inputs(x) and output(y). Use the method values to transform from a DataFrame object to an array object, which can efficiently managed by Numpy library."
   ]
  },
  {
   "cell_type": "code",
   "execution_count": 5,
   "metadata": {
    "id": "1zEeEKETf1d3"
   },
   "outputs": [],
   "source": [
    "y=data.y.values.reshape(-1,1)\n",
    "\n",
    "x=data[\"x\"].values.reshape(-1,1)\n"
   ]
  },
  {
   "cell_type": "markdown",
   "metadata": {
    "id": "u3eLXKfKgKaT"
   },
   "source": [
    "Add a bias column to the input vector. This is a column of ones so when we calibrate the parameters it will also multiply such bias."
   ]
  },
  {
   "cell_type": "code",
   "execution_count": 7,
   "metadata": {
    "id": "c0ePGEa9gKoL"
   },
   "outputs": [],
   "source": [
    "X = np.concatenate((np.ones((len(x),1)),x),axis=1)"
   ]
  },
  {
   "cell_type": "markdown",
   "metadata": {
    "id": "8NAHuAY4j6Cn"
   },
   "source": [
    "Spliting the data into **80%** training set and **20%** testing set."
   ]
  },
  {
   "cell_type": "code",
   "execution_count": 10,
   "metadata": {
    "id": "nTcAPt9kj6NP"
   },
   "outputs": [],
   "source": [
    "trainingSplit = int(.8 * data.shape[0])\n",
    "\n",
    "xtrain = x[:trainingSplit]\n",
    "xtest = x[trainingSplit:]\n",
    "\n",
    "Xtrain = X[:trainingSplit]\n",
    "ytrain = y[:trainingSplit] \n",
    "Xtest = X[trainingSplit:]\n",
    "ytest = y[trainingSplit:]"
   ]
  },
  {
   "cell_type": "markdown",
   "metadata": {
    "id": "Wqgs81k8j6dH"
   },
   "source": [
    "\n",
    "**Q1.**\n",
    "\n",
    "\n",
    "1.  There are one feature `x` and one label `y`.\n",
    "2.  The size of training set is **184** and the size of testing set is 46.\n",
    "3. No invalid value was found in the data.\n",
    "4.  Bellow the describtion of the data: \n",
    "\n",
    "feature| mean | median | min | max\n",
    "--- | --- | --- | --- | ---\n",
    "x | 11.45|-0.1 |0|22.9\n",
    "y | 25.94| 157.93|-0.43|50.44\n",
    "\n"
   ]
  },
  {
   "cell_type": "code",
   "execution_count": 11,
   "metadata": {
    "colab": {
     "base_uri": "https://localhost:8080/"
    },
    "id": "OZtZFC1wj6m8",
    "outputId": "467eed03-d501-4200-ad4d-95cf89759c4a"
   },
   "outputs": [
    {
     "name": "stdout",
     "output_type": "stream",
     "text": [
      "x y\n"
     ]
    }
   ],
   "source": [
    "# 1\n",
    "print(*data.columns)"
   ]
  },
  {
   "cell_type": "code",
   "execution_count": 12,
   "metadata": {
    "colab": {
     "base_uri": "https://localhost:8080/"
    },
    "id": "F6ugKzNykLeu",
    "outputId": "5b5a41ed-1381-4ae3-a861-c1c8541259cf"
   },
   "outputs": [
    {
     "name": "stdout",
     "output_type": "stream",
     "text": [
      "(184, 1) (184, 1)\n",
      "(46, 1) (46, 1)\n"
     ]
    }
   ],
   "source": [
    "# 2\n",
    "print(xtrain.shape,ytrain.shape)\n",
    "print(xtest.shape,ytest.shape)"
   ]
  },
  {
   "cell_type": "code",
   "execution_count": 13,
   "metadata": {
    "colab": {
     "base_uri": "https://localhost:8080/"
    },
    "id": "bnbBS_U8fUZU",
    "outputId": "46ea1002-28a6-4217-e246-e886586f25c5"
   },
   "outputs": [
    {
     "data": {
      "text/plain": [
       "x    False\n",
       "y    False\n",
       "dtype: bool"
      ]
     },
     "execution_count": 13,
     "metadata": {},
     "output_type": "execute_result"
    }
   ],
   "source": [
    "# 3\n",
    "pd.isna(data).any()\n"
   ]
  },
  {
   "cell_type": "code",
   "execution_count": 14,
   "metadata": {
    "colab": {
     "base_uri": "https://localhost:8080/"
    },
    "id": "TNon3M2CkPQX",
    "outputId": "5aa750d8-22df-4c5f-e6b4-add5b20e6d0a"
   },
   "outputs": [
    {
     "name": "stdout",
     "output_type": "stream",
     "text": [
      "                x           y\n",
      "count  230.000000  230.000000\n",
      "mean    11.450000   25.945763\n",
      "std      6.653946   13.597779\n",
      "min      0.000000   -0.431536\n",
      "25%      5.725000   14.343240\n",
      "50%     11.450000   26.286147\n",
      "75%     17.175000   37.487885\n",
      "max     22.900000   50.444631\n"
     ]
    }
   ],
   "source": [
    "# 4\n",
    "print(data.describe())\n"
   ]
  },
  {
   "cell_type": "markdown",
   "metadata": {
    "id": "jRINi5IYlOFv"
   },
   "source": [
    "**Q2.** Ploting the training set "
   ]
  },
  {
   "cell_type": "code",
   "execution_count": 15,
   "metadata": {
    "colab": {
     "base_uri": "https://localhost:8080/",
     "height": 282
    },
    "id": "tHZxEB-JkiyV",
    "outputId": "7ee829ea-9315-41b7-b765-775b6f33b86c"
   },
   "outputs": [
    {
     "data": {
      "text/plain": [
       "<matplotlib.collections.PathCollection at 0x7f2577980970>"
      ]
     },
     "execution_count": 15,
     "metadata": {},
     "output_type": "execute_result"
    },
    {
     "data": {
      "image/png": "[encoded data removed]",
      "text/plain": [
       "<Figure size 432x288 with 1 Axes>"
      ]
     },
     "metadata": {
      "needs_background": "light"
     },
     "output_type": "display_data"
    }
   ],
   "source": [
    "plt.scatter(xtrain, ytrain)"
   ]
  },
  {
   "cell_type": "markdown",
   "metadata": {
    "id": "OnIP0jhmlWFM"
   },
   "source": [
    "**Q3.** According to the ploting, the data is linear.\n",
    "\n",
    "\n",
    "It is Supervised because the data labeled.\n",
    "\n",
    "**Q4.**  (TODO)\n",
    "The various metrics used to optimize error are :\n",
    "* Gradient Descent\n",
    "* Newton\n",
    "* .\n",
    "\n",
    "The various metrics used to evaluate the results of the prediction are :\n",
    "* Mean Squared Error(MSE)\n",
    "* Mean-Absolute-Error(MAE)\n",
    "* .\n",
    "\n",
    "**Q5.** \n"
   ]
  },
  {
   "cell_type": "markdown",
   "metadata": {
    "id": "x-xconWnectz"
   },
   "source": [
    "Create a function `grad()` to compute the necessary gradients of the cost function. \n"
   ]
  },
  {
   "cell_type": "code",
   "execution_count": 16,
   "metadata": {
    "id": "ARBoONmOse6F"
   },
   "outputs": [],
   "source": [
    "m = data.shape[0]\n",
    "\n",
    "# calculate gradient\n",
    "def grad(theta,X,y):\n",
    "    m=X.shape[0]\n",
    "    dJ = 2/m*np.sum((X.dot(theta)-y)*X,axis=0).reshape(-1,1)\n",
    "    return dJ"
   ]
  },
  {
   "cell_type": "markdown",
   "metadata": {
    "id": "33VaK64Kg7Sy"
   },
   "source": [
    "Similarly, calculate the cost function `cost()`, also known as objective function, which can be expressed as the sum of the squared errors, as follows"
   ]
  },
  {
   "cell_type": "code",
   "execution_count": 17,
   "metadata": {
    "id": "iH8pplhk4WIP"
   },
   "outputs": [],
   "source": [
    "def cost(theta,X,y):\n",
    "    m=X.shape[0]\n",
    "    J = np.sum((X.dot(theta)-y)**2,axis=0)[0]\n",
    "    return J/m\n",
    "\n"
   ]
  },
  {
   "cell_type": "markdown",
   "metadata": {
    "id": "BLqP5tGchGQv"
   },
   "source": [
    "Armijo function for linear search the learning rate"
   ]
  },
  {
   "cell_type": "code",
   "execution_count": 18,
   "metadata": {
    "id": "SOTIb62K_Dha"
   },
   "outputs": [],
   "source": [
    "def armijo(X,y,theta,grad=grad,cost=cost):\n",
    "    eps = .001\n",
    "    eta = 10\n",
    "    alpha =10e-15    \n",
    "    gradient = grad(theta,X,y)\n",
    "    phiprzero = -gradient.T.dot(gradient)\n",
    "    phizero = cost(theta,X,y)\n",
    "    while  cost(theta-alpha*gradient,X,y)<= alpha * phiprzero * eps + phizero :\n",
    "        alpha*=eta\n",
    "    return alpha/eta\n"
   ]
  },
  {
   "cell_type": "markdown",
   "metadata": {
    "id": "pDOFUw9UhQEu"
   },
   "source": [
    "We are ready to implement the Gradient Descent algorithm\n",
    "The parametres :\n",
    "* `X` features;\n",
    "* `y` labels;\n",
    "* `learning_rate` learning rate for parametres update;\n",
    "* `epochs` max iteration of gradient descent update;\n",
    "* `TOL` is a tolerance, i.e a maximum difference between the values of the parameters between iterations so it can be stated that the values converged;\n",
    "* `use_armijo` True to opt the armijo rule to calculate the learning rate otherwise the algorithm will use the fixed learning rate.\n",
    "\n",
    "\n",
    "The steps of this algorithm consists of:\n",
    "* Obtain the gradients of the cost function according the actual value of the parameters;\n",
    "* Calculate the cost to keep track of it;\n",
    "* Update the parameters;"
   ]
  },
  {
   "cell_type": "code",
   "execution_count": 28,
   "metadata": {
    "id": "mNdYbYW54kAH"
   },
   "outputs": [],
   "source": [
    "def GD(X,y,learning_rate = 0.001,epochs=1000,TOL=1e-7,use_armijo = False):\n",
    "    theta = np.array([[0]]*X.shape[1])\n",
    "    print(theta)\n",
    "    theta_history = [theta]\n",
    "    J_history = [cost(theta,X,y)]\n",
    "    \n",
    "    thetanew = theta\n",
    "    print(f'epoch \\t Cost(J,X,y) \\t')\n",
    "    for epoch in range(epochs):\n",
    "        if epoch%100 == 0:\n",
    "            print(f'{epoch:5d}\\t{J_history[-1]:7.4f}\\t')\n",
    "        dJ = grad(theta,X,y)\n",
    "        J = cost(theta,X,y)\n",
    "        if use_armijo:learning_rate= armijo(X,y,theta)\n",
    "        thetanew = theta - learning_rate*dJ\n",
    "        theta_history.append(thetanew)\n",
    "        J_history.append(J)\n",
    "        \n",
    "        if np.sum(dJ**2) < TOL:\n",
    "            print('Convergence achieved.')\n",
    "            break\n",
    "        theta = thetanew\n",
    "\n",
    "    return thetanew,theta_history,J_history"
   ]
  },
  {
   "cell_type": "code",
   "execution_count": 29,
   "metadata": {
    "id": "NXhYMwwU86Gw"
   },
   "outputs": [],
   "source": [
    "# theta,theta_history,J_history = GD(X,y,use_armijo=1)\n",
    "# plt.scatter(data.x.values, y)\n",
    "# Y_pred = X.dot(theta)\n",
    "# plt.plot([min(x), max(x)], [min(Y_pred), max(Y_pred)], color=\"red\") # predicted\n",
    "# plt.show()"
   ]
  },
  {
   "cell_type": "markdown",
   "metadata": {
    "id": "TbSeI5wQi3Uf"
   },
   "source": [
    "Next, evaluate the Gradient Descent to determine the optimum set of parameters for 4 models (α = 0.001, 0.002, 0.003 and apply\n",
    "Armijo’s learning rate);"
   ]
  },
  {
   "cell_type": "code",
   "execution_count": 30,
   "metadata": {
    "colab": {
     "base_uri": "https://localhost:8080/"
    },
    "id": "JmhJ2tfHi1AX",
    "outputId": "dfdb1684-ee07-4020-db7a-3ff4e01b5563"
   },
   "outputs": [
    {
     "name": "stdout",
     "output_type": "stream",
     "text": [
      "[[0]\n",
      " [0]]\n",
      "epoch \t Cost(J,X,y) \t\n",
      "    0\t851.5715\t\n",
      "  100\t 5.6131\t\n",
      "  200\t 5.4656\t\n",
      "  300\t 5.3320\t\n",
      "  400\t 5.2111\t\n",
      "  500\t 5.1016\t\n",
      "  600\t 5.0024\t\n",
      "  700\t 4.9126\t\n",
      "  800\t 4.8313\t\n",
      "  900\t 4.7576\t\n",
      "[[0]\n",
      " [0]]\n",
      "epoch \t Cost(J,X,y) \t\n",
      "    0\t851.5715\t\n",
      "  100\t 5.4669\t\n",
      "  200\t 5.2121\t\n",
      "  300\t 5.0032\t\n",
      "  400\t 4.8319\t\n",
      "  500\t 4.6914\t\n",
      "  600\t 4.5762\t\n",
      "  700\t 4.4818\t\n",
      "  800\t 4.4044\t\n",
      "  900\t 4.3409\t\n",
      "[[0]\n",
      " [0]]\n",
      "epoch \t Cost(J,X,y) \t\n",
      "    0\t851.5715\t\n",
      "  100\t 5.3344\t\n",
      "  200\t 5.0040\t\n",
      "  300\t 4.7587\t\n",
      "  400\t 4.5766\t\n",
      "  500\t 4.4414\t\n",
      "  600\t 4.3410\t\n",
      "  700\t 4.2665\t\n",
      "  800\t 4.2112\t\n",
      "  900\t 4.1701\t\n",
      "[[0]\n",
      " [0]]\n",
      "epoch \t Cost(J,X,y) \t\n",
      "    0\t851.5715\t\n",
      "  100\t 5.2808\t\n",
      "  200\t 4.8885\t\n",
      "  300\t 4.6217\t\n",
      "  400\t 4.4404\t\n",
      "  500\t 4.3164\t\n",
      "  600\t 4.2318\t\n",
      "  700\t 4.1742\t\n",
      "  800\t 4.1351\t\n",
      "  900\t 4.1085\t\n"
     ]
    }
   ],
   "source": [
    "models = []\n",
    "models.append( GD(Xtrain,ytrain,learning_rate = 0.001))\n",
    "models.append( GD(Xtrain,ytrain,learning_rate = 0.002))\n",
    "models.append( GD(Xtrain,ytrain,learning_rate = 0.003))\n",
    "models.append( GD(Xtrain,ytrain,use_armijo=1))"
   ]
  },
  {
   "cell_type": "markdown",
   "metadata": {
    "id": "_j0Q6ErCjWW-"
   },
   "source": [
    "**Q6.** Drawing the fit line for the 4 models;"
   ]
  },
  {
   "cell_type": "code",
   "execution_count": 117,
   "metadata": {
    "colab": {
     "base_uri": "https://localhost:8080/",
     "height": 265
    },
    "id": "YygKQ4J049IE",
    "outputId": "f25265a0-bc4f-4d42-8ee9-63bfecf0dc95"
   },
   "outputs": [
    {
     "data": {
      "image/png": "[encoded data removed]",
      "text/plain": [
       "<Figure size 432x288 with 1 Axes>"
      ]
     },
     "metadata": {
      "needs_background": "light",
      "tags": []
     },
     "output_type": "display_data"
    }
   ],
   "source": [
    "plt.scatter(xtrain, ytrain)\n",
    "\n",
    "colors = ['red' , 'blue', \"green\",\"black\"]\n",
    "labels = ['0.001','0.002','0.003','Armijo']\n",
    "for label,color,model in zip(labels,colors,models):\n",
    "  theta = model[0]\n",
    "  Y_pred = Xtrain.dot(theta)\n",
    "  plt.plot([min(xtrain), max(xtrain)], [min(Y_pred), max(Y_pred)], color=color,label = label) # predicted\n",
    "plt.legend()\n",
    "plt.show()"
   ]
  },
  {
   "cell_type": "code",
   "execution_count": 118,
   "metadata": {
    "colab": {
     "base_uri": "https://localhost:8080/",
     "height": 265
    },
    "id": "OaSg-WZh0jUS",
    "outputId": "67c2979f-86f4-43e9-ff5a-093a4debc52e"
   },
   "outputs": [
    {
     "data": {
      "image/png": "[encoded data removed]",
      "text/plain": [
       "<Figure size 432x288 with 1 Axes>"
      ]
     },
     "metadata": {
      "needs_background": "light",
      "tags": []
     },
     "output_type": "display_data"
    }
   ],
   "source": [
    "colors = ['red' , 'blue', \"green\",\"black\"]\n",
    "labels = ['0.001','0.002','0.003','Armijo']\n",
    "for label,color,model in zip(labels,colors,models):\n",
    "  J_history = model[2]\n",
    "  plt.plot(J_history, color=color,label = label) # predicted\n",
    "plt.legend()\n",
    "plt.show()"
   ]
  },
  {
   "cell_type": "markdown",
   "metadata": {
    "id": "jOg9rGb5kNR9"
   },
   "source": [
    "**Q7.** Generalization error   (TODO)"
   ]
  },
  {
   "cell_type": "code",
   "execution_count": 31,
   "metadata": {
    "colab": {
     "base_uri": "https://localhost:8080/"
    },
    "id": "4RACMcbykYqw",
    "outputId": "3761a29e-f275-48dd-a816-83852f42f287"
   },
   "outputs": [
    {
     "name": "stdout",
     "output_type": "stream",
     "text": [
      "5.003035114325729\n",
      "4.527450063065023\n",
      "4.338600906157043\n",
      "4.287943744340155\n"
     ]
    }
   ],
   "source": [
    "for model in models:\n",
    "    theta =model[0]\n",
    "    print(cost(theta,Xtest,ytest))"
   ]
  },
  {
   "cell_type": "markdown",
   "metadata": {
    "id": "rMp2uaBimXnr"
   },
   "source": [
    "**Q8.** Estimate generalization error (bias-variance)"
   ]
  },
  {
   "cell_type": "code",
   "execution_count": 119,
   "metadata": {
    "id": "OABd0SlimI5y"
   },
   "outputs": [],
   "source": []
  },
  {
   "cell_type": "markdown",
   "metadata": {
    "id": "KTTA8r-5m6Iz"
   },
   "source": [
    "**Q9.**"
   ]
  },
  {
   "cell_type": "code",
   "execution_count": 119,
   "metadata": {
    "id": "hLJu0SI3m6bo"
   },
   "outputs": [],
   "source": []
  },
  {
   "cell_type": "markdown",
   "metadata": {
    "id": "qOQKsXfJm6u5"
   },
   "source": [
    "Q10"
   ]
  },
  {
   "cell_type": "code",
   "execution_count": 119,
   "metadata": {
    "id": "5AxP7amEm7Ch"
   },
   "outputs": [],
   "source": []
  },
  {
   "cell_type": "code",
   "execution_count": 119,
   "metadata": {
    "id": "q2dL3fI_m7s_"
   },
   "outputs": [],
   "source": []
  },
  {
   "cell_type": "markdown",
   "metadata": {
    "id": "Co8utwWfm79M"
   },
   "source": [
    "Q11"
   ]
  },
  {
   "cell_type": "code",
   "execution_count": 119,
   "metadata": {
    "id": "Pek_mGtam8Q1"
   },
   "outputs": [],
   "source": []
  },
  {
   "cell_type": "markdown",
   "metadata": {
    "id": "FwfMLjWHm8iE"
   },
   "source": [
    "Q12"
   ]
  },
  {
   "cell_type": "code",
   "execution_count": 119,
   "metadata": {
    "id": "jb1_TilFm81B"
   },
   "outputs": [],
   "source": []
  },
  {
   "cell_type": "markdown",
   "metadata": {
    "id": "QkGO8P_Rm9FW"
   },
   "source": [
    "Q13"
   ]
  },
  {
   "cell_type": "code",
   "execution_count": 119,
   "metadata": {
    "id": "bsXZaUA2m9XE"
   },
   "outputs": [],
   "source": []
  },
  {
   "cell_type": "markdown",
   "metadata": {
    "id": "1OpnR52Qm7X5"
   },
   "source": [
    "**Q14** "
   ]
  },
  {
   "cell_type": "markdown",
   "metadata": {
    "id": "My2IXdbWj1Mh"
   },
   "source": [
    "### **Second Part**"
   ]
  },
  {
   "cell_type": "code",
   "execution_count": 32,
   "metadata": {
    "colab": {
     "base_uri": "https://localhost:8080/"
    },
    "id": "uVw1ShvFdw2B",
    "outputId": "404c7f63-9ea6-4829-f16c-ca736897c318"
   },
   "outputs": [
    {
     "name": "stdout",
     "output_type": "stream",
     "text": [
      "(240, 2)\n"
     ]
    }
   ],
   "source": [
    "data = pd.read_csv(\"data4.csv\")\n",
    "\n",
    "data= data.sample(frac=1)\n",
    "\n",
    "print(data.shape)"
   ]
  },
  {
   "cell_type": "markdown",
   "metadata": {
    "id": "aKwx_XGaqpwb"
   },
   "source": [
    "Spliting to traing and testing"
   ]
  },
  {
   "cell_type": "code",
   "execution_count": 121,
   "metadata": {
    "id": "5PBsamQdquJV"
   },
   "outputs": [],
   "source": [
    "y=data.y.values.reshape(-1,1)\n",
    "x=data[\"x\"].values.reshape(-1,1)\n",
    "\n",
    "\n",
    "trainingSplit = int(.8 * data.shape[0])\n",
    "\n",
    "\n",
    "xtrain = x[:trainingSplit]\n",
    "ytrain = y[:trainingSplit] \n",
    "xtest = x[trainingSplit:]\n",
    "ytest = y[trainingSplit:]"
   ]
  },
  {
   "cell_type": "markdown",
   "metadata": {
    "id": "MmsXtFTMp0Kz"
   },
   "source": [
    "**Q1.**\n",
    "\n",
    "**q1.**\n",
    "\n",
    "**1.1.** The data contain 2 features `x` and `y`."
   ]
  },
  {
   "cell_type": "code",
   "execution_count": 122,
   "metadata": {
    "colab": {
     "base_uri": "https://localhost:8080/"
    },
    "id": "pKhC9dCPnyOm",
    "outputId": "fbd2225b-1716-478e-831c-314d2da44d35"
   },
   "outputs": [
    {
     "name": "stdout",
     "output_type": "stream",
     "text": [
      "x y\n"
     ]
    }
   ],
   "source": [
    "print(*data.columns)"
   ]
  },
  {
   "cell_type": "markdown",
   "metadata": {
    "id": "pNQycAw2rNJ1"
   },
   "source": [
    "**1.2.**  The size of training set is **192**, the size of testing size is **48**.\n",
    "\n",
    "\n",
    "\n",
    "\n",
    "\n",
    "\n",
    "\n"
   ]
  },
  {
   "cell_type": "code",
   "execution_count": 123,
   "metadata": {
    "colab": {
     "base_uri": "https://localhost:8080/"
    },
    "id": "mQc0OCtUrP2S",
    "outputId": "35d3deb9-bc74-4d63-dbcf-f28bdd6278b7"
   },
   "outputs": [
    {
     "name": "stdout",
     "output_type": "stream",
     "text": [
      "(192, 1) (192, 1)\n",
      "(48, 1) (48, 1)\n"
     ]
    }
   ],
   "source": [
    "print(xtrain.shape,ytrain.shape)\n",
    "print(xtest.shape,ytest.shape)"
   ]
  },
  {
   "cell_type": "markdown",
   "metadata": {
    "id": "QyUwDyeXr0mc"
   },
   "source": [
    "**1.3.** According to the ploting, The data is polynomial.\n",
    "\n",
    "The data is Supervided : There is no missing data because the size of features equal the size of labels"
   ]
  },
  {
   "cell_type": "markdown",
   "metadata": {
    "id": "Le8TdH12sLUH"
   },
   "source": [
    "**1.4.** bellow the describtion of our dataset :\n",
    "\n",
    " feature| mean | median | min | max\n",
    "--- | --- | --- | --- | ---\n",
    "x | -0.1|-0.1 |-24|23.8\n",
    "y | 193.31| 157.39|-67.13|578.49"
   ]
  },
  {
   "cell_type": "code",
   "execution_count": 33,
   "metadata": {
    "colab": {
     "base_uri": "https://localhost:8080/",
     "height": 297
    },
    "id": "pWDmnUvmtGTI",
    "outputId": "a7746006-eeca-47c1-b3bf-7d8bc94cd8db"
   },
   "outputs": [
    {
     "data": {
      "text/html": [
       "<div>\n",
       "<style scoped>\n",
       "    .dataframe tbody tr th:only-of-type {\n",
       "        vertical-align: middle;\n",
       "    }\n",
       "\n",
       "    .dataframe tbody tr th {\n",
       "        vertical-align: top;\n",
       "    }\n",
       "\n",
       "    .dataframe thead th {\n",
       "        text-align: right;\n",
       "    }\n",
       "</style>\n",
       "<table border=\"1\" class=\"dataframe\">\n",
       "  <thead>\n",
       "    <tr style=\"text-align: right;\">\n",
       "      <th></th>\n",
       "      <th>x</th>\n",
       "      <th>y</th>\n",
       "    </tr>\n",
       "  </thead>\n",
       "  <tbody>\n",
       "    <tr>\n",
       "      <th>count</th>\n",
       "      <td>240.000000</td>\n",
       "      <td>240.000000</td>\n",
       "    </tr>\n",
       "    <tr>\n",
       "      <th>mean</th>\n",
       "      <td>-0.100000</td>\n",
       "      <td>193.313566</td>\n",
       "    </tr>\n",
       "    <tr>\n",
       "      <th>std</th>\n",
       "      <td>13.885244</td>\n",
       "      <td>172.459213</td>\n",
       "    </tr>\n",
       "    <tr>\n",
       "      <th>min</th>\n",
       "      <td>-24.000000</td>\n",
       "      <td>-67.135789</td>\n",
       "    </tr>\n",
       "    <tr>\n",
       "      <th>25%</th>\n",
       "      <td>-12.050000</td>\n",
       "      <td>41.201270</td>\n",
       "    </tr>\n",
       "    <tr>\n",
       "      <th>50%</th>\n",
       "      <td>-0.100000</td>\n",
       "      <td>157.391379</td>\n",
       "    </tr>\n",
       "    <tr>\n",
       "      <th>75%</th>\n",
       "      <td>11.850000</td>\n",
       "      <td>324.378494</td>\n",
       "    </tr>\n",
       "    <tr>\n",
       "      <th>max</th>\n",
       "      <td>23.800000</td>\n",
       "      <td>578.496869</td>\n",
       "    </tr>\n",
       "  </tbody>\n",
       "</table>\n",
       "</div>"
      ],
      "text/plain": [
       "                x           y\n",
       "count  240.000000  240.000000\n",
       "mean    -0.100000  193.313566\n",
       "std     13.885244  172.459213\n",
       "min    -24.000000  -67.135789\n",
       "25%    -12.050000   41.201270\n",
       "50%     -0.100000  157.391379\n",
       "75%     11.850000  324.378494\n",
       "max     23.800000  578.496869"
      ]
     },
     "execution_count": 33,
     "metadata": {},
     "output_type": "execute_result"
    }
   ],
   "source": [
    "data.describe()"
   ]
  },
  {
   "cell_type": "markdown",
   "metadata": {
    "id": "QZyrhi3OwdRC"
   },
   "source": [
    "***q2.***"
   ]
  },
  {
   "cell_type": "markdown",
   "metadata": {
    "id": "bqB77zBNwhrV"
   },
   "source": [
    "Using `matplotlib.scatter` to plot our **2D** dataset as scatters."
   ]
  },
  {
   "cell_type": "code",
   "execution_count": 125,
   "metadata": {
    "colab": {
     "base_uri": "https://localhost:8080/",
     "height": 283
    },
    "id": "Q1weoEPwxMJg",
    "outputId": "3249463e-b1c4-4434-f534-4d0532f207f3"
   },
   "outputs": [
    {
     "data": {
      "text/plain": [
       "<matplotlib.collections.PathCollection at 0x7f3b1fbadda0>"
      ]
     },
     "execution_count": 125,
     "metadata": {
      "tags": []
     },
     "output_type": "execute_result"
    },
    {
     "data": {
      "image/png": "[encoded data removed]",
      "text/plain": [
       "<Figure size 432x288 with 1 Axes>"
      ]
     },
     "metadata": {
      "needs_background": "light",
      "tags": []
     },
     "output_type": "display_data"
    }
   ],
   "source": [
    "plt.scatter(xtrain, ytrain)\n"
   ]
  },
  {
   "cell_type": "markdown",
   "metadata": {
    "id": "gZClmXy1hLIz"
   },
   "source": [
    "***q3.*** As showen in the figure above. Our dataset is polynomial of degree 2.\n",
    "\n",
    "The nature of the dataset is **supervised** because the data is labeled."
   ]
  },
  {
   "cell_type": "markdown",
   "metadata": {
    "id": "pRcxgpoTiyym"
   },
   "source": [
    "***q4.*** Different metrics : (TODO)\n"
   ]
  },
  {
   "cell_type": "markdown",
   "metadata": {
    "id": "85EsZinBFdKY"
   },
   "source": [
    "**Q2.** Create the tranformation `tf` which take the initial features and the degree and give the new features according to pylinomial transformation of given degree.\n",
    "\n",
    "we will use the same gradient descent implimentated in part 1."
   ]
  },
  {
   "cell_type": "code",
   "execution_count": 126,
   "metadata": {
    "id": "nV2inqZvhB3O"
   },
   "outputs": [],
   "source": [
    "def tf(x,deg):\n",
    "  X=np.ones((len(x),1))\n",
    "  for i in range(1,deg+1):\n",
    "    X = np.concatenate((X,x**i),axis=1)\n",
    "  return X"
   ]
  },
  {
   "cell_type": "markdown",
   "metadata": {
    "id": "7Ggw64Dvx0Yo"
   },
   "source": [
    "Apply the tranformation for degree = 2"
   ]
  },
  {
   "cell_type": "code",
   "execution_count": 139,
   "metadata": {
    "colab": {
     "base_uri": "https://localhost:8080/"
    },
    "id": "Tvr0i2Z7P2ty",
    "outputId": "2c8c5e49-fb3a-4bb6-a7fc-bd737a87655c"
   },
   "outputs": [
    {
     "name": "stdout",
     "output_type": "stream",
     "text": [
      "(240, 3)\n"
     ]
    }
   ],
   "source": [
    "Xtrain =tf(xtrain,deg=2)\n",
    "Xtest =tf(xtest,deg=2)\n",
    "X =tf(x,deg=2)\n",
    "print(X.shape)"
   ]
  },
  {
   "cell_type": "markdown",
   "metadata": {
    "id": "WPu9STOjHVyN"
   },
   "source": [
    "**Q.3**  According to the plot, we assume that the polynomial degree is 2 because the drawing function is parabola."
   ]
  },
  {
   "cell_type": "markdown",
   "metadata": {
    "id": "4QtnAAlZHkio"
   },
   "source": [
    "**Q4.** Fiting the model;"
   ]
  },
  {
   "cell_type": "code",
   "execution_count": 128,
   "metadata": {
    "colab": {
     "base_uri": "https://localhost:8080/",
     "height": 368
    },
    "id": "TygjbdWbGWS7",
    "outputId": "d6f85daa-8c83-4448-d8b1-92dfb4cffd38"
   },
   "outputs": [
    {
     "name": "stdout",
     "output_type": "stream",
     "text": [
      "[[0]\n",
      " [0]\n",
      " [0]]\n",
      "epoch \t Cost(J,X,y) \t\n",
      "    0\t13226351.3185\t\n",
      "Convergence achieved.\n"
     ]
    },
    {
     "data": {
      "image/png": "[encoded data removed]",
      "text/plain": [
       "<Figure size 432x288 with 1 Axes>"
      ]
     },
     "metadata": {
      "needs_background": "light",
      "tags": []
     },
     "output_type": "display_data"
    }
   ],
   "source": [
    "\n",
    "theta,theta_history,J_history = GD(Xtrain,ytrain,use_armijo=1)\n",
    "plt.scatter(xtrain, ytrain)\n",
    "Y_pred = Xtrain.dot(theta)\n",
    "plt.scatter(xtrain, Y_pred, color=\"red\") # predicted\n",
    "plt.show()"
   ]
  },
  {
   "cell_type": "code",
   "execution_count": 129,
   "metadata": {
    "colab": {
     "base_uri": "https://localhost:8080/",
     "height": 293
    },
    "id": "8YDtaJGN0cIY",
    "outputId": "8e42a420-9616-4352-aecb-f2b38b433fd7"
   },
   "outputs": [
    {
     "data": {
      "text/plain": [
       "[<matplotlib.lines.Line2D at 0x7f3b1ffaae80>]"
      ]
     },
     "execution_count": 129,
     "metadata": {
      "tags": []
     },
     "output_type": "execute_result"
    },
    {
     "data": {
      "image/png": "[encoded data removed]",
      "text/plain": [
       "<Figure size 432x288 with 1 Axes>"
      ]
     },
     "metadata": {
      "needs_background": "light",
      "tags": []
     },
     "output_type": "display_data"
    }
   ],
   "source": [
    "plt.plot(J_history)\n"
   ]
  },
  {
   "cell_type": "markdown",
   "metadata": {
    "id": "jTFJPlqOI37U"
   },
   "source": [
    "### PART3"
   ]
  },
  {
   "cell_type": "markdown",
   "metadata": {
    "id": "TpdOUUXMJEVg"
   },
   "source": [
    "**Q1.** \n",
    "\n",
    "**Q2.** "
   ]
  },
  {
   "cell_type": "code",
   "execution_count": null,
   "metadata": {
    "id": "yG2XYZSNHrIy"
   },
   "outputs": [],
   "source": [
    "ynorm = y.copy()\n",
    "maxy = np.max(y)\n",
    "miny = np.min(y)\n",
    "ynorm = (y-miny)/(maxy - miny) \n"
   ]
  },
  {
   "cell_type": "markdown",
   "metadata": {
    "id": "lr2EgjbNRo16"
   },
   "source": []
  },
  {
   "cell_type": "code",
   "execution_count": 141,
   "metadata": {
    "id": "Cq3sAcq_LYci"
   },
   "outputs": [],
   "source": [
    "def sigmoid(z): return 1 / (1 + np.e**(-z))\n",
    "m = data.shape[0]\n",
    "\n",
    "# calculate gradient\n",
    "def grad2(theta,X,y):\n",
    "    y_hat = sigmoid(np.dot(X, theta))\n",
    "    dJ = 1/m*np.sum((y_hat-y)*X,axis=0).reshape(-1,1)\n",
    "    return dJ\n",
    "def cost2(theta,X, y):         \n",
    "    z = np.dot(X, theta)\n",
    "    predict_1 = y * np.log(sigmoid(z))\n",
    "    predict_0 = (1 - y) * np.log(1 - sigmoid(z))\n",
    "    return -sum(predict_1 + predict_0) / len(X)\n",
    "\n",
    "def LR(X,y,learning_rate = 0.001,epochs=1000,TOL=1e-7,use_armijo = False):\n",
    "    theta = np.array([[0]]*X.shape[1])\n",
    "    print(theta)\n",
    "    theta_history = [theta]\n",
    "    J_history = [cost2(theta,X,y)]\n",
    "    \n",
    "    thetanew = theta\n",
    "    print(f'epoch \\t Cost2(J,X,y) \\t')\n",
    "    for epoch in range(epochs):\n",
    "        if epoch%100 == 0:\n",
    "            print(f'{epoch:5d}\\t{J_history[-1]}\\t')\n",
    "        dJ = grad2(theta,X,y)\n",
    "        J = cost2(theta,X,y)\n",
    "        if use_armijo:learning_rate= armijo(X,y,theta,grad2,cost2)\n",
    "        thetanew = theta - learning_rate*dJ\n",
    "        theta_history.append(thetanew)\n",
    "        J_history.append(J)\n",
    "        \n",
    "        if np.sum((thetanew - theta)**2) < TOL:\n",
    "            print('Convergence achieved.')\n",
    "            break\n",
    "        theta = thetanew\n",
    "\n",
    "    return thetanew,theta_history,J_history"
   ]
  },
  {
   "cell_type": "code",
   "execution_count": 143,
   "metadata": {
    "colab": {
     "base_uri": "https://localhost:8080/",
     "height": 384
    },
    "id": "r3HdHzLWNdfF",
    "outputId": "82c3c20b-0d30-44fa-87fb-ef67f01dbf17"
   },
   "outputs": [
    {
     "name": "stdout",
     "output_type": "stream",
     "text": [
      "(240, 3) (240, 1)\n",
      "[[0]\n",
      " [0]\n",
      " [0]]\n",
      "epoch \t Cost2(J,X,y) \t\n",
      "    0\t[0.69314718]\t\n",
      "Convergence achieved.\n"
     ]
    },
    {
     "data": {
      "image/png": "[encoded data removed]",
      "text/plain": [
       "<Figure size 432x288 with 1 Axes>"
      ]
     },
     "metadata": {
      "needs_background": "light",
      "tags": []
     },
     "output_type": "display_data"
    }
   ],
   "source": [
    "print(X.shape,ynorm.shape)\n",
    "theta,theta_history,J_history = LR(X,ynorm,use_armijo=1)\n",
    "plt.scatter(x, ynorm)\n",
    "Y_pred = sigmoid( X.dot(theta))\n",
    "plt.scatter(x,Y_pred, color=\"red\") \n",
    "plt.show()"
   ]
  },
  {
   "cell_type": "code",
   "execution_count": 144,
   "metadata": {
    "colab": {
     "base_uri": "https://localhost:8080/",
     "height": 282
    },
    "id": "OwOe9zHhX3sS",
    "outputId": "06e5ec67-dcdf-4528-eede-bb90a8441dd4"
   },
   "outputs": [
    {
     "data": {
      "text/plain": [
       "[<matplotlib.lines.Line2D at 0x7f3b1f6e3588>]"
      ]
     },
     "execution_count": 144,
     "metadata": {
      "tags": []
     },
     "output_type": "execute_result"
    },
    {
     "data": {
      "image/png": "[encoded data removed]",
      "text/plain": [
       "<Figure size 432x288 with 1 Axes>"
      ]
     },
     "metadata": {
      "needs_background": "light",
      "tags": []
     },
     "output_type": "display_data"
    }
   ],
   "source": [
    "plt.plot(J_history)"
   ]
  }
 ],
 "metadata": {
  "colab": {
   "authorship_tag": "ABX9TyPBGrPxLZ0BvJweBQaiaNoP",
   "collapsed_sections": [],
   "include_colab_link": true,
   "name": "Project-Regression.ipynb",
   "provenance": []
  },
  "kernelspec": {
   "display_name": "Python 3",
   "language": "python",
   "name": "python3"
  },
  "language_info": {
   "codemirror_mode": {
    "name": "ipython",
    "version": 3
   },
   "file_extension": ".py",
   "mimetype": "text/x-python",
   "name": "python",
   "nbconvert_exporter": "python",
   "pygments_lexer": "ipython3",
   "version": "3.8.5"
  }
 },
 "nbformat": 4,
 "nbformat_minor": 4
}
